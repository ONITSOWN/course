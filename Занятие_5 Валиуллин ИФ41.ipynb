{
  "cells": [
    {
      "cell_type": "markdown",
      "metadata": {
        "id": "view-in-github",
        "colab_type": "text"
      },
      "source": [
        "<a href=\"https://colab.research.google.com/github/ONITSOWN/course/blob/main/%D0%97%D0%B0%D0%BD%D1%8F%D1%82%D0%B8%D0%B5_5%20%D0%92%D0%B0%D0%BB%D0%B8%D1%83%D0%BB%D0%BB%D0%B8%D0%BD%20%D0%98%D0%A441.ipynb\" target=\"_parent\"><img src=\"https://colab.research.google.com/assets/colab-badge.svg\" alt=\"Open In Colab\"/></a>"
      ]
    },
    {
      "cell_type": "markdown",
      "metadata": {
        "id": "43eYUhi0KD_u"
      },
      "source": [
        "# Изменение типов данных\n",
        "\n",
        "Данные бывают разных типов, не всегда подходящих для анализа. В этой теме вы узнаете, как изменять типы данных для удобства расчётов.\n",
        "\n",
        "Задачи сегодняшнего занятия:\n",
        "\n",
        "•\tПереводить строку в форматы даты и времени;\n",
        "\n",
        "•\tПревращать строковые значения в числовые методами **to_numeric()** и **astype()**;\n",
        "\n",
        "•\tСоединять таблицы методом **merge()**;\n",
        "\n",
        "•\tСоздавать сводные таблицы методом **pivot_table()**.\n"
      ]
    },
    {
      "cell_type": "markdown",
      "metadata": {
        "id": "-t8aBVnUKD_v"
      },
      "source": [
        "Задача: SEO-оптимизаторы поставили задачу \"Определить, какие товарные категории и подкатегории на сайте представлены в поисковиках хуже всего\". В ответ на просьбу направить таблицы с источниками трафика, товарными категориями и подкатегориями, разработчики прислали экселевский файл.\n",
        "\n",
        "Ранее мы встречались только с форматом **.csv** и методом **read_csv()**. Для прочтения файлов **Excel** есть особый метод **read_excel()**. Он похож на **read_csv()**, но в отличие от него, **read_excel()** нужно два аргумента: строка с именем самого файла или пути к нему, и имя листа **sheet_name**.\n",
        "\n",
        "**import pandas as pd**\n",
        "\n",
        "**df = pd.read_excel('/datasets/Экселевский файл.xlsx', sheet_name='Самый первый лист')**\n",
        "\n",
        "Можно вызвать **read_excel()** и без второго аргумента. Тогда будет взят первый по счёту лист.\n",
        "Вооружившись методом **read_excel()**, прочитаем файл с таблицами от разработчиков.\n"
      ]
    },
    {
      "cell_type": "markdown",
      "metadata": {
        "id": "pmGOiz4-KD_w"
      },
      "source": [
        "## Задача\n",
        "\n",
        "1. Методом **read_excel()** прочтите первый лист **'traffic_data'**, сохраните его в переменной **data**. Выведите на экран первые 5 строк листа методом **head()**. Прочитайте названия столбцов:\n",
        "\n",
        "•\t**subcategory_id** — идентификатор товарной подкатегории, или её зашифрованное название;\n",
        "\n",
        "•\t**source** — источник трафика. В нашем случае источников два: прямой заход на сайт в таблице обозначен как direct, переход из поисковых систем — **organic**;\n",
        "\n",
        "•\t**visits** — количество визитов на страницу подкатегории за отчётный период.\n",
        "\n"
      ]
    },
    {
      "cell_type": "code",
      "execution_count": 9,
      "metadata": {
        "colab": {
          "base_uri": "https://localhost:8080/"
        },
        "id": "ztxemumXKD_w",
        "outputId": "1ba7cfc1-b59e-4555-8760-a4827d29a43a"
      },
      "outputs": [
        {
          "output_type": "stream",
          "name": "stdout",
          "text": [
            "Drive already mounted at /content/drive; to attempt to forcibly remount, call drive.mount(\"/content/drive\", force_remount=True).\n",
            "  subcategory_id  source         visits\n",
            "0     cf2e61c7af  direct  501165.668858\n",
            "1     0cd903d1cc  direct  126342.359505\n",
            "2     ef35bc88a7  direct   95626.321402\n",
            "3     6ff9f4014c  direct   75680.653002\n",
            "4     72bc238e4d  direct   64435.934651\n",
            "Index(['subcategory_id', 'source', 'visits'], dtype='object')\n"
          ]
        }
      ],
      "source": [
        "#Youre code is here\n",
        "from google.colab import drive\n",
        "drive.mount('/content/drive')\n",
        "\n",
        "import pandas as pd\n",
        "\n",
        "data = pd.read_excel('/content/drive/My Drive/seo_data.xlsx', sheet_name='traffic_data')\n",
        "\n",
        "print(data.head(5))\n",
        "\n",
        "print(data.columns)\n"
      ]
    },
    {
      "cell_type": "markdown",
      "metadata": {
        "id": "GRgV3-KnKD_w"
      },
      "source": [
        "Пока в первых 5 строчках таблицы виден только один источник трафика direct. Проверьте, какие источники есть в столбце source. Выведите на экран список уникальных значений этого столбца.\n"
      ]
    },
    {
      "cell_type": "code",
      "execution_count": 10,
      "metadata": {
        "colab": {
          "base_uri": "https://localhost:8080/"
        },
        "id": "a0RTurXhKD_w",
        "outputId": "b3c4c5f2-2c1e-40ec-d464-c35327742ccd"
      },
      "outputs": [
        {
          "output_type": "stream",
          "name": "stdout",
          "text": [
            "['direct' 'organic']\n"
          ]
        }
      ],
      "source": [
        "#Youre code is here\n",
        "# Получение уникальных значений из столбца 'source'\n",
        "unique_sources = data['source'].unique()\n",
        "\n",
        "# Вывод списка уникальных значений\n",
        "print(unique_sources)"
      ]
    },
    {
      "cell_type": "markdown",
      "metadata": {
        "id": "M1fDDdn2KD_w"
      },
      "source": [
        "Методом **read_excel()** прочтите второй лист **'subcategory_ids'** и сохраните его в переменной **subcategory_dict**. Выведите на экран его первые 5 строк методом **head()**.\n",
        "Обратите внимание на названия столбцов: к знакомым нам идентификаторам подкатегорий **(subcategory_id)** добавились идентификаторы категорий **(category_id)** и названия подкатегорий **(subcategory_name)**.\n",
        "Всё это похоже на словарь, где идентификаторам подкатегорий из цифр и латинских букв соответствуют понятные нам названия. Поэтому датафрейм называется **subcategory_dict**.\n"
      ]
    },
    {
      "cell_type": "code",
      "execution_count": 11,
      "metadata": {
        "colab": {
          "base_uri": "https://localhost:8080/"
        },
        "id": "oJEirYrkKD_x",
        "outputId": "1710bfba-aebd-476a-87a3-1c121ddf9b5e"
      },
      "outputs": [
        {
          "output_type": "stream",
          "name": "stdout",
          "text": [
            "  subcategory_id                subcategory_name category_id\n",
            "0     cf2e61c7af              Мобильные телефоны  09f279a643\n",
            "1     0cd903d1cc                        Ноутбуки  3509869a61\n",
            "2     ef35bc88a7                      Телевизоры  09f279a643\n",
            "3     6ff9f4014c                        Планшеты  3509869a61\n",
            "4     72bc238e4d  Наушники и Bluetooth-гарнитуры  09f279a643\n"
          ]
        }
      ],
      "source": [
        "#Youre code is here\n",
        "# Чтение второго листа 'subcategory_ids'\n",
        "subcategory_dict = pd.read_excel('/content/drive/My Drive/seo_data.xlsx', sheet_name='subcategory_ids')\n",
        "\n",
        "# Вывод первых 5 строк датафрейма\n",
        "print(subcategory_dict.head())\n"
      ]
    },
    {
      "cell_type": "markdown",
      "metadata": {
        "id": "CjC-bw_JKD_x"
      },
      "source": [
        "Наконец, методом **read_excel()** прочтём третий лист **category_ids** и сохраним его в переменной **category_dict**. Выведите на экран первые 5 строк листа методом **head()**."
      ]
    },
    {
      "cell_type": "code",
      "execution_count": 15,
      "metadata": {
        "colab": {
          "base_uri": "https://localhost:8080/"
        },
        "id": "k_rvGf3dKD_x",
        "outputId": "a4d5f946-83ca-4618-f564-9dd8e9dfb1c4"
      },
      "outputs": [
        {
          "output_type": "stream",
          "name": "stdout",
          "text": [
            "  category_id               category_name\n",
            "0  09f279a643                 Электроника\n",
            "1  3509869a61        Компьютерная техника\n",
            "2  65922fa39c                        Авто\n",
            "3  6074ad29ac  Одежда, обувь и аксессуары\n",
            "4  10a493e03b         Товары для здоровья\n"
          ]
        }
      ],
      "source": [
        "#Youre code is here\n",
        "# Чтение второго листа 'category_ids' из Excel-файла\n",
        "category_dict = pd.read_excel('/content/drive/My Drive/seo_data.xlsx', sheet_name='category_ids')\n",
        "\n",
        "# Вывод первых 5 строк датафрейма\n",
        "print(category_dict.head())\n"
      ]
    },
    {
      "cell_type": "markdown",
      "metadata": {
        "id": "F-gTeh5dKD_x"
      },
      "source": [
        "# Перевод строковых значений в числа\n",
        "\n",
        "Читая данные, Pandas автоматически переводит их в подходящий формат. У него порой не получается, тогда приходится измениять тип данных вручную.\n",
        "\n",
        "Рассмотрим файл со списком транзакций (платежей за одну покупку). Для каждой категории (буква в столбце **'category'**) посчитаем сумму продаж (значения в столбце **'amount'**)."
      ]
    },
    {
      "cell_type": "code",
      "execution_count": 16,
      "metadata": {
        "colab": {
          "base_uri": "https://localhost:8080/",
          "height": 206
        },
        "id": "dkEENnEOKD_x",
        "outputId": "19ff1840-e3c8-4149-9e89-f024f2dc16b5"
      },
      "outputs": [
        {
          "output_type": "execute_result",
          "data": {
            "text/plain": [
              "             id category    amount\n",
              "0  600748331392        C  17515.36\n",
              "1  600748331404        B  10117.56\n",
              "2  600748331412        B  18489.26\n",
              "3  600748331430        B   6620.22\n",
              "4  600748331447        C    7559.9"
            ],
            "text/html": [
              "\n",
              "  <div id=\"df-cd9f31b9-8e8c-42be-a57f-7c3a9b3a14aa\" class=\"colab-df-container\">\n",
              "    <div>\n",
              "<style scoped>\n",
              "    .dataframe tbody tr th:only-of-type {\n",
              "        vertical-align: middle;\n",
              "    }\n",
              "\n",
              "    .dataframe tbody tr th {\n",
              "        vertical-align: top;\n",
              "    }\n",
              "\n",
              "    .dataframe thead th {\n",
              "        text-align: right;\n",
              "    }\n",
              "</style>\n",
              "<table border=\"1\" class=\"dataframe\">\n",
              "  <thead>\n",
              "    <tr style=\"text-align: right;\">\n",
              "      <th></th>\n",
              "      <th>id</th>\n",
              "      <th>category</th>\n",
              "      <th>amount</th>\n",
              "    </tr>\n",
              "  </thead>\n",
              "  <tbody>\n",
              "    <tr>\n",
              "      <th>0</th>\n",
              "      <td>600748331392</td>\n",
              "      <td>C</td>\n",
              "      <td>17515.36</td>\n",
              "    </tr>\n",
              "    <tr>\n",
              "      <th>1</th>\n",
              "      <td>600748331404</td>\n",
              "      <td>B</td>\n",
              "      <td>10117.56</td>\n",
              "    </tr>\n",
              "    <tr>\n",
              "      <th>2</th>\n",
              "      <td>600748331412</td>\n",
              "      <td>B</td>\n",
              "      <td>18489.26</td>\n",
              "    </tr>\n",
              "    <tr>\n",
              "      <th>3</th>\n",
              "      <td>600748331430</td>\n",
              "      <td>B</td>\n",
              "      <td>6620.22</td>\n",
              "    </tr>\n",
              "    <tr>\n",
              "      <th>4</th>\n",
              "      <td>600748331447</td>\n",
              "      <td>C</td>\n",
              "      <td>7559.9</td>\n",
              "    </tr>\n",
              "  </tbody>\n",
              "</table>\n",
              "</div>\n",
              "    <div class=\"colab-df-buttons\">\n",
              "\n",
              "  <div class=\"colab-df-container\">\n",
              "    <button class=\"colab-df-convert\" onclick=\"convertToInteractive('df-cd9f31b9-8e8c-42be-a57f-7c3a9b3a14aa')\"\n",
              "            title=\"Convert this dataframe to an interactive table.\"\n",
              "            style=\"display:none;\">\n",
              "\n",
              "  <svg xmlns=\"http://www.w3.org/2000/svg\" height=\"24px\" viewBox=\"0 -960 960 960\">\n",
              "    <path d=\"M120-120v-720h720v720H120Zm60-500h600v-160H180v160Zm220 220h160v-160H400v160Zm0 220h160v-160H400v160ZM180-400h160v-160H180v160Zm440 0h160v-160H620v160ZM180-180h160v-160H180v160Zm440 0h160v-160H620v160Z\"/>\n",
              "  </svg>\n",
              "    </button>\n",
              "\n",
              "  <style>\n",
              "    .colab-df-container {\n",
              "      display:flex;\n",
              "      gap: 12px;\n",
              "    }\n",
              "\n",
              "    .colab-df-convert {\n",
              "      background-color: #E8F0FE;\n",
              "      border: none;\n",
              "      border-radius: 50%;\n",
              "      cursor: pointer;\n",
              "      display: none;\n",
              "      fill: #1967D2;\n",
              "      height: 32px;\n",
              "      padding: 0 0 0 0;\n",
              "      width: 32px;\n",
              "    }\n",
              "\n",
              "    .colab-df-convert:hover {\n",
              "      background-color: #E2EBFA;\n",
              "      box-shadow: 0px 1px 2px rgba(60, 64, 67, 0.3), 0px 1px 3px 1px rgba(60, 64, 67, 0.15);\n",
              "      fill: #174EA6;\n",
              "    }\n",
              "\n",
              "    .colab-df-buttons div {\n",
              "      margin-bottom: 4px;\n",
              "    }\n",
              "\n",
              "    [theme=dark] .colab-df-convert {\n",
              "      background-color: #3B4455;\n",
              "      fill: #D2E3FC;\n",
              "    }\n",
              "\n",
              "    [theme=dark] .colab-df-convert:hover {\n",
              "      background-color: #434B5C;\n",
              "      box-shadow: 0px 1px 3px 1px rgba(0, 0, 0, 0.15);\n",
              "      filter: drop-shadow(0px 1px 2px rgba(0, 0, 0, 0.3));\n",
              "      fill: #FFFFFF;\n",
              "    }\n",
              "  </style>\n",
              "\n",
              "    <script>\n",
              "      const buttonEl =\n",
              "        document.querySelector('#df-cd9f31b9-8e8c-42be-a57f-7c3a9b3a14aa button.colab-df-convert');\n",
              "      buttonEl.style.display =\n",
              "        google.colab.kernel.accessAllowed ? 'block' : 'none';\n",
              "\n",
              "      async function convertToInteractive(key) {\n",
              "        const element = document.querySelector('#df-cd9f31b9-8e8c-42be-a57f-7c3a9b3a14aa');\n",
              "        const dataTable =\n",
              "          await google.colab.kernel.invokeFunction('convertToInteractive',\n",
              "                                                    [key], {});\n",
              "        if (!dataTable) return;\n",
              "\n",
              "        const docLinkHtml = 'Like what you see? Visit the ' +\n",
              "          '<a target=\"_blank\" href=https://colab.research.google.com/notebooks/data_table.ipynb>data table notebook</a>'\n",
              "          + ' to learn more about interactive tables.';\n",
              "        element.innerHTML = '';\n",
              "        dataTable['output_type'] = 'display_data';\n",
              "        await google.colab.output.renderOutput(dataTable, element);\n",
              "        const docLink = document.createElement('div');\n",
              "        docLink.innerHTML = docLinkHtml;\n",
              "        element.appendChild(docLink);\n",
              "      }\n",
              "    </script>\n",
              "  </div>\n",
              "\n",
              "\n",
              "<div id=\"df-eb7817b9-cf4f-41b7-9008-b97d5c65de4c\">\n",
              "  <button class=\"colab-df-quickchart\" onclick=\"quickchart('df-eb7817b9-cf4f-41b7-9008-b97d5c65de4c')\"\n",
              "            title=\"Suggest charts\"\n",
              "            style=\"display:none;\">\n",
              "\n",
              "<svg xmlns=\"http://www.w3.org/2000/svg\" height=\"24px\"viewBox=\"0 0 24 24\"\n",
              "     width=\"24px\">\n",
              "    <g>\n",
              "        <path d=\"M19 3H5c-1.1 0-2 .9-2 2v14c0 1.1.9 2 2 2h14c1.1 0 2-.9 2-2V5c0-1.1-.9-2-2-2zM9 17H7v-7h2v7zm4 0h-2V7h2v10zm4 0h-2v-4h2v4z\"/>\n",
              "    </g>\n",
              "</svg>\n",
              "  </button>\n",
              "\n",
              "<style>\n",
              "  .colab-df-quickchart {\n",
              "      --bg-color: #E8F0FE;\n",
              "      --fill-color: #1967D2;\n",
              "      --hover-bg-color: #E2EBFA;\n",
              "      --hover-fill-color: #174EA6;\n",
              "      --disabled-fill-color: #AAA;\n",
              "      --disabled-bg-color: #DDD;\n",
              "  }\n",
              "\n",
              "  [theme=dark] .colab-df-quickchart {\n",
              "      --bg-color: #3B4455;\n",
              "      --fill-color: #D2E3FC;\n",
              "      --hover-bg-color: #434B5C;\n",
              "      --hover-fill-color: #FFFFFF;\n",
              "      --disabled-bg-color: #3B4455;\n",
              "      --disabled-fill-color: #666;\n",
              "  }\n",
              "\n",
              "  .colab-df-quickchart {\n",
              "    background-color: var(--bg-color);\n",
              "    border: none;\n",
              "    border-radius: 50%;\n",
              "    cursor: pointer;\n",
              "    display: none;\n",
              "    fill: var(--fill-color);\n",
              "    height: 32px;\n",
              "    padding: 0;\n",
              "    width: 32px;\n",
              "  }\n",
              "\n",
              "  .colab-df-quickchart:hover {\n",
              "    background-color: var(--hover-bg-color);\n",
              "    box-shadow: 0 1px 2px rgba(60, 64, 67, 0.3), 0 1px 3px 1px rgba(60, 64, 67, 0.15);\n",
              "    fill: var(--button-hover-fill-color);\n",
              "  }\n",
              "\n",
              "  .colab-df-quickchart-complete:disabled,\n",
              "  .colab-df-quickchart-complete:disabled:hover {\n",
              "    background-color: var(--disabled-bg-color);\n",
              "    fill: var(--disabled-fill-color);\n",
              "    box-shadow: none;\n",
              "  }\n",
              "\n",
              "  .colab-df-spinner {\n",
              "    border: 2px solid var(--fill-color);\n",
              "    border-color: transparent;\n",
              "    border-bottom-color: var(--fill-color);\n",
              "    animation:\n",
              "      spin 1s steps(1) infinite;\n",
              "  }\n",
              "\n",
              "  @keyframes spin {\n",
              "    0% {\n",
              "      border-color: transparent;\n",
              "      border-bottom-color: var(--fill-color);\n",
              "      border-left-color: var(--fill-color);\n",
              "    }\n",
              "    20% {\n",
              "      border-color: transparent;\n",
              "      border-left-color: var(--fill-color);\n",
              "      border-top-color: var(--fill-color);\n",
              "    }\n",
              "    30% {\n",
              "      border-color: transparent;\n",
              "      border-left-color: var(--fill-color);\n",
              "      border-top-color: var(--fill-color);\n",
              "      border-right-color: var(--fill-color);\n",
              "    }\n",
              "    40% {\n",
              "      border-color: transparent;\n",
              "      border-right-color: var(--fill-color);\n",
              "      border-top-color: var(--fill-color);\n",
              "    }\n",
              "    60% {\n",
              "      border-color: transparent;\n",
              "      border-right-color: var(--fill-color);\n",
              "    }\n",
              "    80% {\n",
              "      border-color: transparent;\n",
              "      border-right-color: var(--fill-color);\n",
              "      border-bottom-color: var(--fill-color);\n",
              "    }\n",
              "    90% {\n",
              "      border-color: transparent;\n",
              "      border-bottom-color: var(--fill-color);\n",
              "    }\n",
              "  }\n",
              "</style>\n",
              "\n",
              "  <script>\n",
              "    async function quickchart(key) {\n",
              "      const quickchartButtonEl =\n",
              "        document.querySelector('#' + key + ' button');\n",
              "      quickchartButtonEl.disabled = true;  // To prevent multiple clicks.\n",
              "      quickchartButtonEl.classList.add('colab-df-spinner');\n",
              "      try {\n",
              "        const charts = await google.colab.kernel.invokeFunction(\n",
              "            'suggestCharts', [key], {});\n",
              "      } catch (error) {\n",
              "        console.error('Error during call to suggestCharts:', error);\n",
              "      }\n",
              "      quickchartButtonEl.classList.remove('colab-df-spinner');\n",
              "      quickchartButtonEl.classList.add('colab-df-quickchart-complete');\n",
              "    }\n",
              "    (() => {\n",
              "      let quickchartButtonEl =\n",
              "        document.querySelector('#df-eb7817b9-cf4f-41b7-9008-b97d5c65de4c button');\n",
              "      quickchartButtonEl.style.display =\n",
              "        google.colab.kernel.accessAllowed ? 'block' : 'none';\n",
              "    })();\n",
              "  </script>\n",
              "</div>\n",
              "    </div>\n",
              "  </div>\n"
            ],
            "application/vnd.google.colaboratory.intrinsic+json": {
              "type": "dataframe",
              "variable_name": "transactions",
              "summary": "{\n  \"name\": \"transactions\",\n  \"rows\": 49,\n  \"fields\": [\n    {\n      \"column\": \"id\",\n      \"properties\": {\n        \"dtype\": \"string\",\n        \"num_unique_values\": 49,\n        \"samples\": [\n          600748331647,\n          600748332553,\n          600748332580\n        ],\n        \"semantic_type\": \"\",\n        \"description\": \"\"\n      }\n    },\n    {\n      \"column\": \"category\",\n      \"properties\": {\n        \"dtype\": \"category\",\n        \"num_unique_values\": 6,\n        \"samples\": [\n          \"C\",\n          \"B\",\n          \"Null\"\n        ],\n        \"semantic_type\": \"\",\n        \"description\": \"\"\n      }\n    },\n    {\n      \"column\": \"amount\",\n      \"properties\": {\n        \"dtype\": \"string\",\n        \"num_unique_values\": 46,\n        \"samples\": [\n          18659.7,\n          15193.72,\n          18240.5\n        ],\n        \"semantic_type\": \"\",\n        \"description\": \"\"\n      }\n    }\n  ]\n}"
            }
          },
          "metadata": {},
          "execution_count": 16
        }
      ],
      "source": [
        "transactions = pd.read_excel('/content/drive/My Drive/ids.xlsx')\n",
        "transactions.head()"
      ]
    },
    {
      "cell_type": "markdown",
      "metadata": {
        "id": "9dTDv2xMKD_x"
      },
      "source": [
        "Пока всё распознано корректно. В столбце **'id'** стоят идентификаторы транзакций, в столбце **category** — категории проданных товаров, в **amount** — стоимость каждого товара. Методом **info()** установим, как Pandas определил типы столбцов."
      ]
    },
    {
      "cell_type": "code",
      "execution_count": 17,
      "metadata": {
        "colab": {
          "base_uri": "https://localhost:8080/"
        },
        "id": "o3Jj9FKcKD_y",
        "outputId": "4dc40c27-c41c-4970-fc36-69ef227cb8bd"
      },
      "outputs": [
        {
          "output_type": "stream",
          "name": "stdout",
          "text": [
            "<class 'pandas.core.frame.DataFrame'>\n",
            "RangeIndex: 49 entries, 0 to 48\n",
            "Data columns (total 3 columns):\n",
            " #   Column    Non-Null Count  Dtype \n",
            "---  ------    --------------  ----- \n",
            " 0   id        49 non-null     object\n",
            " 1   category  49 non-null     object\n",
            " 2   amount    49 non-null     object\n",
            "dtypes: object(3)\n",
            "memory usage: 1.3+ KB\n"
          ]
        }
      ],
      "source": [
        "transactions.info()"
      ]
    },
    {
      "cell_type": "markdown",
      "metadata": {
        "id": "4kCw2TFkKD_y"
      },
      "source": [
        "А вот и подозрительное поведение: столбцы **'id'** и **'amount'** распознаны как строки — тип **object**. Это значит, что в столбцах есть нечисловые значения или пропуски, а они помешают нашим расчётам.\n",
        "\n",
        "К примеру, попробуем вычислить сумму продаж:"
      ]
    },
    {
      "cell_type": "code",
      "execution_count": 18,
      "metadata": {
        "colab": {
          "base_uri": "https://localhost:8080/",
          "height": 287
        },
        "id": "nFTWUhHlKD_y",
        "outputId": "959ad67b-804c-41d3-c2f1-fcef29f62ab1"
      },
      "outputs": [
        {
          "output_type": "error",
          "ename": "TypeError",
          "evalue": "unsupported operand type(s) for +: 'float' and 'str'",
          "traceback": [
            "\u001b[0;31m---------------------------------------------------------------------------\u001b[0m",
            "\u001b[0;31mTypeError\u001b[0m                                 Traceback (most recent call last)",
            "\u001b[0;32m<ipython-input-18-19000514209f>\u001b[0m in \u001b[0;36m<cell line: 1>\u001b[0;34m()\u001b[0m\n\u001b[0;32m----> 1\u001b[0;31m \u001b[0mprint\u001b[0m\u001b[0;34m(\u001b[0m\u001b[0mtransactions\u001b[0m\u001b[0;34m[\u001b[0m\u001b[0;34m'amount'\u001b[0m\u001b[0;34m]\u001b[0m\u001b[0;34m.\u001b[0m\u001b[0msum\u001b[0m\u001b[0;34m(\u001b[0m\u001b[0;34m)\u001b[0m\u001b[0;34m)\u001b[0m\u001b[0;34m\u001b[0m\u001b[0;34m\u001b[0m\u001b[0m\n\u001b[0m",
            "\u001b[0;32m/usr/local/lib/python3.10/dist-packages/pandas/core/series.py\u001b[0m in \u001b[0;36msum\u001b[0;34m(self, axis, skipna, numeric_only, min_count, **kwargs)\u001b[0m\n\u001b[1;32m   6526\u001b[0m         \u001b[0;34m**\u001b[0m\u001b[0mkwargs\u001b[0m\u001b[0;34m,\u001b[0m\u001b[0;34m\u001b[0m\u001b[0;34m\u001b[0m\u001b[0m\n\u001b[1;32m   6527\u001b[0m     ):\n\u001b[0;32m-> 6528\u001b[0;31m         \u001b[0;32mreturn\u001b[0m \u001b[0mNDFrame\u001b[0m\u001b[0;34m.\u001b[0m\u001b[0msum\u001b[0m\u001b[0;34m(\u001b[0m\u001b[0mself\u001b[0m\u001b[0;34m,\u001b[0m \u001b[0maxis\u001b[0m\u001b[0;34m,\u001b[0m \u001b[0mskipna\u001b[0m\u001b[0;34m,\u001b[0m \u001b[0mnumeric_only\u001b[0m\u001b[0;34m,\u001b[0m \u001b[0mmin_count\u001b[0m\u001b[0;34m,\u001b[0m \u001b[0;34m**\u001b[0m\u001b[0mkwargs\u001b[0m\u001b[0;34m)\u001b[0m\u001b[0;34m\u001b[0m\u001b[0;34m\u001b[0m\u001b[0m\n\u001b[0m\u001b[1;32m   6529\u001b[0m \u001b[0;34m\u001b[0m\u001b[0m\n\u001b[1;32m   6530\u001b[0m     \u001b[0;34m@\u001b[0m\u001b[0mdoc\u001b[0m\u001b[0;34m(\u001b[0m\u001b[0mmake_doc\u001b[0m\u001b[0;34m(\u001b[0m\u001b[0;34m\"prod\"\u001b[0m\u001b[0;34m,\u001b[0m \u001b[0mndim\u001b[0m\u001b[0;34m=\u001b[0m\u001b[0;36m1\u001b[0m\u001b[0;34m)\u001b[0m\u001b[0;34m)\u001b[0m\u001b[0;34m\u001b[0m\u001b[0;34m\u001b[0m\u001b[0m\n",
            "\u001b[0;32m/usr/local/lib/python3.10/dist-packages/pandas/core/generic.py\u001b[0m in \u001b[0;36msum\u001b[0;34m(self, axis, skipna, numeric_only, min_count, **kwargs)\u001b[0m\n\u001b[1;32m  12504\u001b[0m         \u001b[0;34m**\u001b[0m\u001b[0mkwargs\u001b[0m\u001b[0;34m,\u001b[0m\u001b[0;34m\u001b[0m\u001b[0;34m\u001b[0m\u001b[0m\n\u001b[1;32m  12505\u001b[0m     ):\n\u001b[0;32m> 12506\u001b[0;31m         return self._min_count_stat_function(\n\u001b[0m\u001b[1;32m  12507\u001b[0m             \u001b[0;34m\"sum\"\u001b[0m\u001b[0;34m,\u001b[0m \u001b[0mnanops\u001b[0m\u001b[0;34m.\u001b[0m\u001b[0mnansum\u001b[0m\u001b[0;34m,\u001b[0m \u001b[0maxis\u001b[0m\u001b[0;34m,\u001b[0m \u001b[0mskipna\u001b[0m\u001b[0;34m,\u001b[0m \u001b[0mnumeric_only\u001b[0m\u001b[0;34m,\u001b[0m \u001b[0mmin_count\u001b[0m\u001b[0;34m,\u001b[0m \u001b[0;34m**\u001b[0m\u001b[0mkwargs\u001b[0m\u001b[0;34m\u001b[0m\u001b[0;34m\u001b[0m\u001b[0m\n\u001b[1;32m  12508\u001b[0m         )\n",
            "\u001b[0;32m/usr/local/lib/python3.10/dist-packages/pandas/core/generic.py\u001b[0m in \u001b[0;36m_min_count_stat_function\u001b[0;34m(self, name, func, axis, skipna, numeric_only, min_count, **kwargs)\u001b[0m\n\u001b[1;32m  12487\u001b[0m             \u001b[0maxis\u001b[0m \u001b[0;34m=\u001b[0m \u001b[0;36m0\u001b[0m\u001b[0;34m\u001b[0m\u001b[0;34m\u001b[0m\u001b[0m\n\u001b[1;32m  12488\u001b[0m \u001b[0;34m\u001b[0m\u001b[0m\n\u001b[0;32m> 12489\u001b[0;31m         return self._reduce(\n\u001b[0m\u001b[1;32m  12490\u001b[0m             \u001b[0mfunc\u001b[0m\u001b[0;34m,\u001b[0m\u001b[0;34m\u001b[0m\u001b[0;34m\u001b[0m\u001b[0m\n\u001b[1;32m  12491\u001b[0m             \u001b[0mname\u001b[0m\u001b[0;34m=\u001b[0m\u001b[0mname\u001b[0m\u001b[0;34m,\u001b[0m\u001b[0;34m\u001b[0m\u001b[0;34m\u001b[0m\u001b[0m\n",
            "\u001b[0;32m/usr/local/lib/python3.10/dist-packages/pandas/core/series.py\u001b[0m in \u001b[0;36m_reduce\u001b[0;34m(self, op, name, axis, skipna, numeric_only, filter_type, **kwds)\u001b[0m\n\u001b[1;32m   6455\u001b[0m                     \u001b[0;34m\"with non-numeric dtypes.\"\u001b[0m\u001b[0;34m\u001b[0m\u001b[0;34m\u001b[0m\u001b[0m\n\u001b[1;32m   6456\u001b[0m                 )\n\u001b[0;32m-> 6457\u001b[0;31m             \u001b[0;32mreturn\u001b[0m \u001b[0mop\u001b[0m\u001b[0;34m(\u001b[0m\u001b[0mdelegate\u001b[0m\u001b[0;34m,\u001b[0m \u001b[0mskipna\u001b[0m\u001b[0;34m=\u001b[0m\u001b[0mskipna\u001b[0m\u001b[0;34m,\u001b[0m \u001b[0;34m**\u001b[0m\u001b[0mkwds\u001b[0m\u001b[0;34m)\u001b[0m\u001b[0;34m\u001b[0m\u001b[0;34m\u001b[0m\u001b[0m\n\u001b[0m\u001b[1;32m   6458\u001b[0m \u001b[0;34m\u001b[0m\u001b[0m\n\u001b[1;32m   6459\u001b[0m     \u001b[0;34m@\u001b[0m\u001b[0mAppender\u001b[0m\u001b[0;34m(\u001b[0m\u001b[0mmake_doc\u001b[0m\u001b[0;34m(\u001b[0m\u001b[0;34m\"any\"\u001b[0m\u001b[0;34m,\u001b[0m \u001b[0mndim\u001b[0m\u001b[0;34m=\u001b[0m\u001b[0;36m1\u001b[0m\u001b[0;34m)\u001b[0m\u001b[0;34m)\u001b[0m\u001b[0;34m\u001b[0m\u001b[0;34m\u001b[0m\u001b[0m\n",
            "\u001b[0;32m/usr/local/lib/python3.10/dist-packages/pandas/core/nanops.py\u001b[0m in \u001b[0;36m_f\u001b[0;34m(*args, **kwargs)\u001b[0m\n\u001b[1;32m     83\u001b[0m                 )\n\u001b[1;32m     84\u001b[0m             \u001b[0;32mtry\u001b[0m\u001b[0;34m:\u001b[0m\u001b[0;34m\u001b[0m\u001b[0;34m\u001b[0m\u001b[0m\n\u001b[0;32m---> 85\u001b[0;31m                 \u001b[0;32mreturn\u001b[0m \u001b[0mf\u001b[0m\u001b[0;34m(\u001b[0m\u001b[0;34m*\u001b[0m\u001b[0margs\u001b[0m\u001b[0;34m,\u001b[0m \u001b[0;34m**\u001b[0m\u001b[0mkwargs\u001b[0m\u001b[0;34m)\u001b[0m\u001b[0;34m\u001b[0m\u001b[0;34m\u001b[0m\u001b[0m\n\u001b[0m\u001b[1;32m     86\u001b[0m             \u001b[0;32mexcept\u001b[0m \u001b[0mValueError\u001b[0m \u001b[0;32mas\u001b[0m \u001b[0me\u001b[0m\u001b[0;34m:\u001b[0m\u001b[0;34m\u001b[0m\u001b[0;34m\u001b[0m\u001b[0m\n\u001b[1;32m     87\u001b[0m                 \u001b[0;31m# we want to transform an object array\u001b[0m\u001b[0;34m\u001b[0m\u001b[0;34m\u001b[0m\u001b[0m\n",
            "\u001b[0;32m/usr/local/lib/python3.10/dist-packages/pandas/core/nanops.py\u001b[0m in \u001b[0;36mnew_func\u001b[0;34m(values, axis, skipna, mask, **kwargs)\u001b[0m\n\u001b[1;32m    402\u001b[0m             \u001b[0mmask\u001b[0m \u001b[0;34m=\u001b[0m \u001b[0misna\u001b[0m\u001b[0;34m(\u001b[0m\u001b[0mvalues\u001b[0m\u001b[0;34m)\u001b[0m\u001b[0;34m\u001b[0m\u001b[0;34m\u001b[0m\u001b[0m\n\u001b[1;32m    403\u001b[0m \u001b[0;34m\u001b[0m\u001b[0m\n\u001b[0;32m--> 404\u001b[0;31m         \u001b[0mresult\u001b[0m \u001b[0;34m=\u001b[0m \u001b[0mfunc\u001b[0m\u001b[0;34m(\u001b[0m\u001b[0mvalues\u001b[0m\u001b[0;34m,\u001b[0m \u001b[0maxis\u001b[0m\u001b[0;34m=\u001b[0m\u001b[0maxis\u001b[0m\u001b[0;34m,\u001b[0m \u001b[0mskipna\u001b[0m\u001b[0;34m=\u001b[0m\u001b[0mskipna\u001b[0m\u001b[0;34m,\u001b[0m \u001b[0mmask\u001b[0m\u001b[0;34m=\u001b[0m\u001b[0mmask\u001b[0m\u001b[0;34m,\u001b[0m \u001b[0;34m**\u001b[0m\u001b[0mkwargs\u001b[0m\u001b[0;34m)\u001b[0m\u001b[0;34m\u001b[0m\u001b[0;34m\u001b[0m\u001b[0m\n\u001b[0m\u001b[1;32m    405\u001b[0m \u001b[0;34m\u001b[0m\u001b[0m\n\u001b[1;32m    406\u001b[0m         \u001b[0;32mif\u001b[0m \u001b[0mdatetimelike\u001b[0m\u001b[0;34m:\u001b[0m\u001b[0;34m\u001b[0m\u001b[0;34m\u001b[0m\u001b[0m\n",
            "\u001b[0;32m/usr/local/lib/python3.10/dist-packages/pandas/core/nanops.py\u001b[0m in \u001b[0;36mnewfunc\u001b[0;34m(values, axis, **kwargs)\u001b[0m\n\u001b[1;32m    475\u001b[0m             \u001b[0;32mreturn\u001b[0m \u001b[0mnp\u001b[0m\u001b[0;34m.\u001b[0m\u001b[0marray\u001b[0m\u001b[0;34m(\u001b[0m\u001b[0mresults\u001b[0m\u001b[0;34m)\u001b[0m\u001b[0;34m\u001b[0m\u001b[0;34m\u001b[0m\u001b[0m\n\u001b[1;32m    476\u001b[0m \u001b[0;34m\u001b[0m\u001b[0m\n\u001b[0;32m--> 477\u001b[0;31m         \u001b[0;32mreturn\u001b[0m \u001b[0mfunc\u001b[0m\u001b[0;34m(\u001b[0m\u001b[0mvalues\u001b[0m\u001b[0;34m,\u001b[0m \u001b[0maxis\u001b[0m\u001b[0;34m=\u001b[0m\u001b[0maxis\u001b[0m\u001b[0;34m,\u001b[0m \u001b[0;34m**\u001b[0m\u001b[0mkwargs\u001b[0m\u001b[0;34m)\u001b[0m\u001b[0;34m\u001b[0m\u001b[0;34m\u001b[0m\u001b[0m\n\u001b[0m\u001b[1;32m    478\u001b[0m \u001b[0;34m\u001b[0m\u001b[0m\n\u001b[1;32m    479\u001b[0m     \u001b[0;32mreturn\u001b[0m \u001b[0mcast\u001b[0m\u001b[0;34m(\u001b[0m\u001b[0mF\u001b[0m\u001b[0;34m,\u001b[0m \u001b[0mnewfunc\u001b[0m\u001b[0;34m)\u001b[0m\u001b[0;34m\u001b[0m\u001b[0;34m\u001b[0m\u001b[0m\n",
            "\u001b[0;32m/usr/local/lib/python3.10/dist-packages/pandas/core/nanops.py\u001b[0m in \u001b[0;36mnansum\u001b[0;34m(values, axis, skipna, min_count, mask)\u001b[0m\n\u001b[1;32m    644\u001b[0m         \u001b[0mdtype_sum\u001b[0m \u001b[0;34m=\u001b[0m \u001b[0mnp\u001b[0m\u001b[0;34m.\u001b[0m\u001b[0mdtype\u001b[0m\u001b[0;34m(\u001b[0m\u001b[0mnp\u001b[0m\u001b[0;34m.\u001b[0m\u001b[0mfloat64\u001b[0m\u001b[0;34m)\u001b[0m\u001b[0;34m\u001b[0m\u001b[0;34m\u001b[0m\u001b[0m\n\u001b[1;32m    645\u001b[0m \u001b[0;34m\u001b[0m\u001b[0m\n\u001b[0;32m--> 646\u001b[0;31m     \u001b[0mthe_sum\u001b[0m \u001b[0;34m=\u001b[0m \u001b[0mvalues\u001b[0m\u001b[0;34m.\u001b[0m\u001b[0msum\u001b[0m\u001b[0;34m(\u001b[0m\u001b[0maxis\u001b[0m\u001b[0;34m,\u001b[0m \u001b[0mdtype\u001b[0m\u001b[0;34m=\u001b[0m\u001b[0mdtype_sum\u001b[0m\u001b[0;34m)\u001b[0m\u001b[0;34m\u001b[0m\u001b[0;34m\u001b[0m\u001b[0m\n\u001b[0m\u001b[1;32m    647\u001b[0m     \u001b[0mthe_sum\u001b[0m \u001b[0;34m=\u001b[0m \u001b[0m_maybe_null_out\u001b[0m\u001b[0;34m(\u001b[0m\u001b[0mthe_sum\u001b[0m\u001b[0;34m,\u001b[0m \u001b[0maxis\u001b[0m\u001b[0;34m,\u001b[0m \u001b[0mmask\u001b[0m\u001b[0;34m,\u001b[0m \u001b[0mvalues\u001b[0m\u001b[0;34m.\u001b[0m\u001b[0mshape\u001b[0m\u001b[0;34m,\u001b[0m \u001b[0mmin_count\u001b[0m\u001b[0;34m=\u001b[0m\u001b[0mmin_count\u001b[0m\u001b[0;34m)\u001b[0m\u001b[0;34m\u001b[0m\u001b[0;34m\u001b[0m\u001b[0m\n\u001b[1;32m    648\u001b[0m \u001b[0;34m\u001b[0m\u001b[0m\n",
            "\u001b[0;32m/usr/local/lib/python3.10/dist-packages/numpy/core/_methods.py\u001b[0m in \u001b[0;36m_sum\u001b[0;34m(a, axis, dtype, out, keepdims, initial, where)\u001b[0m\n\u001b[1;32m     47\u001b[0m def _sum(a, axis=None, dtype=None, out=None, keepdims=False,\n\u001b[1;32m     48\u001b[0m          initial=_NoValue, where=True):\n\u001b[0;32m---> 49\u001b[0;31m     \u001b[0;32mreturn\u001b[0m \u001b[0mumr_sum\u001b[0m\u001b[0;34m(\u001b[0m\u001b[0ma\u001b[0m\u001b[0;34m,\u001b[0m \u001b[0maxis\u001b[0m\u001b[0;34m,\u001b[0m \u001b[0mdtype\u001b[0m\u001b[0;34m,\u001b[0m \u001b[0mout\u001b[0m\u001b[0;34m,\u001b[0m \u001b[0mkeepdims\u001b[0m\u001b[0;34m,\u001b[0m \u001b[0minitial\u001b[0m\u001b[0;34m,\u001b[0m \u001b[0mwhere\u001b[0m\u001b[0;34m)\u001b[0m\u001b[0;34m\u001b[0m\u001b[0;34m\u001b[0m\u001b[0m\n\u001b[0m\u001b[1;32m     50\u001b[0m \u001b[0;34m\u001b[0m\u001b[0m\n\u001b[1;32m     51\u001b[0m def _prod(a, axis=None, dtype=None, out=None, keepdims=False,\n",
            "\u001b[0;31mTypeError\u001b[0m: unsupported operand type(s) for +: 'float' and 'str'"
          ]
        }
      ],
      "source": [
        "print(transactions['amount'].sum())"
      ]
    },
    {
      "cell_type": "markdown",
      "metadata": {
        "id": "yzVSp3vjKD_y"
      },
      "source": [
        "Сумма не считается из-за наличия строковых значений в столбце **'amount'**.\n",
        "Собрать все строки да сделать их числами! Для этого есть стандартный метод Pandas — **to_numeric()**. Он превращает значения столбца в числовой тип **float64** (вещественное число).\n"
      ]
    },
    {
      "cell_type": "code",
      "execution_count": 19,
      "metadata": {
        "colab": {
          "base_uri": "https://localhost:8080/",
          "height": 419
        },
        "id": "Y3wRftGwKD_y",
        "outputId": "9effd8ba-ba88-4033-e70c-e29b69f311cb"
      },
      "outputs": [
        {
          "output_type": "error",
          "ename": "ValueError",
          "evalue": "Unable to parse string \"Null\" at position 21",
          "traceback": [
            "\u001b[0;31m---------------------------------------------------------------------------\u001b[0m",
            "\u001b[0;31mValueError\u001b[0m                                Traceback (most recent call last)",
            "\u001b[0;32mlib.pyx\u001b[0m in \u001b[0;36mpandas._libs.lib.maybe_convert_numeric\u001b[0;34m()\u001b[0m\n",
            "\u001b[0;31mValueError\u001b[0m: Unable to parse string \"Null\"",
            "\nDuring handling of the above exception, another exception occurred:\n",
            "\u001b[0;31mValueError\u001b[0m                                Traceback (most recent call last)",
            "\u001b[0;32m<ipython-input-19-8c8cb0bac236>\u001b[0m in \u001b[0;36m<cell line: 1>\u001b[0;34m()\u001b[0m\n\u001b[0;32m----> 1\u001b[0;31m \u001b[0mtransactions\u001b[0m\u001b[0;34m[\u001b[0m\u001b[0;34m'amount'\u001b[0m\u001b[0;34m]\u001b[0m \u001b[0;34m=\u001b[0m \u001b[0mpd\u001b[0m\u001b[0;34m.\u001b[0m\u001b[0mto_numeric\u001b[0m\u001b[0;34m(\u001b[0m\u001b[0mtransactions\u001b[0m\u001b[0;34m[\u001b[0m\u001b[0;34m'amount'\u001b[0m\u001b[0;34m]\u001b[0m\u001b[0;34m)\u001b[0m\u001b[0;34m\u001b[0m\u001b[0;34m\u001b[0m\u001b[0m\n\u001b[0m",
            "\u001b[0;32m/usr/local/lib/python3.10/dist-packages/pandas/core/tools/numeric.py\u001b[0m in \u001b[0;36mto_numeric\u001b[0;34m(arg, errors, downcast, dtype_backend)\u001b[0m\n\u001b[1;32m    230\u001b[0m         \u001b[0mcoerce_numeric\u001b[0m \u001b[0;34m=\u001b[0m \u001b[0merrors\u001b[0m \u001b[0;32mnot\u001b[0m \u001b[0;32min\u001b[0m \u001b[0;34m(\u001b[0m\u001b[0;34m\"ignore\"\u001b[0m\u001b[0;34m,\u001b[0m \u001b[0;34m\"raise\"\u001b[0m\u001b[0;34m)\u001b[0m\u001b[0;34m\u001b[0m\u001b[0;34m\u001b[0m\u001b[0m\n\u001b[1;32m    231\u001b[0m         \u001b[0;32mtry\u001b[0m\u001b[0;34m:\u001b[0m\u001b[0;34m\u001b[0m\u001b[0;34m\u001b[0m\u001b[0m\n\u001b[0;32m--> 232\u001b[0;31m             values, new_mask = lib.maybe_convert_numeric(  # type: ignore[call-overload]\n\u001b[0m\u001b[1;32m    233\u001b[0m                 \u001b[0mvalues\u001b[0m\u001b[0;34m,\u001b[0m\u001b[0;34m\u001b[0m\u001b[0;34m\u001b[0m\u001b[0m\n\u001b[1;32m    234\u001b[0m                 \u001b[0mset\u001b[0m\u001b[0;34m(\u001b[0m\u001b[0;34m)\u001b[0m\u001b[0;34m,\u001b[0m\u001b[0;34m\u001b[0m\u001b[0;34m\u001b[0m\u001b[0m\n",
            "\u001b[0;32mlib.pyx\u001b[0m in \u001b[0;36mpandas._libs.lib.maybe_convert_numeric\u001b[0;34m()\u001b[0m\n",
            "\u001b[0;31mValueError\u001b[0m: Unable to parse string \"Null\" at position 21"
          ]
        }
      ],
      "source": [
        "transactions['amount'] = pd.to_numeric(transactions['amount'])"
      ]
    },
    {
      "cell_type": "markdown",
      "metadata": {
        "id": "oRLY2w8cKD_y"
      },
      "source": [
        "\n",
        "У метода **to_numeric()** есть параметр **errors**. От значений, принимаемых **errors**, зависят действия **to_numeric** при встрече с некорректным значением:\n",
        "\n",
        "•\t**'errors='raise'** — дефолтное поведение: при встрече с некорректным значением выдаётся ошибка, операция перевода в числа прерывается;\n",
        "\n",
        "•\t**errors='coerce'** — некорректные значения принудительно заменяются на NaN;\n",
        "\n",
        "•\t**errors='ignore'** — некорректные значения игнорируются, но остаются.\n"
      ]
    },
    {
      "cell_type": "code",
      "execution_count": 20,
      "metadata": {
        "id": "zosDVVKdKD_y"
      },
      "outputs": [],
      "source": [
        "transactions['amount'] = pd.to_numeric(transactions['amount'], errors='coerce')"
      ]
    },
    {
      "cell_type": "markdown",
      "metadata": {
        "id": "C65NFNBdKD_y"
      },
      "source": [
        "Методом **to_numeric()** мы не только превратим строки в числовой тип там, где это возможно, но и выясним, на каких значениях метод не работает.\n",
        "Особенность метода **to_numeric()** в том, что при переводе все числа будут иметь тип данных **float**. Это подходит далеко не всем значениям. Поэтому в нужный тип значения переводят методом **astype()**. Например, аргумент **('int')** метода **astype()** означает, что значение нужно перевести в целое число:\n",
        "![image.png](attachment:image.png)\n",
        "\n"
      ]
    },
    {
      "cell_type": "markdown",
      "metadata": {
        "id": "-pm92UbUKD_y"
      },
      "source": [
        "## Задача   \n",
        "1. Переведите значения столбца **'id'** (таблицы **ids**) из строк в числа методом **to_numeric()**.\n",
        "\n"
      ]
    },
    {
      "cell_type": "code",
      "execution_count": 21,
      "metadata": {
        "id": "DJ0FOw5hKD_y"
      },
      "outputs": [],
      "source": [
        "# Youre code is here\n",
        "transactions['id'] = pd.to_numeric(transactions['id'], errors='coerce')"
      ]
    },
    {
      "cell_type": "markdown",
      "metadata": {
        "id": "PkYaseVEKD_y"
      },
      "source": [
        "2. Попробуйте ещё раз перевести значения столбца **'id'** из строк в числа методом **to_numeric()**, но уже со значением **'coerce'** параметра **errors**. Это заменит вызывающий ошибку Null на NaN.\n",
        "Полученную таблицу выведите на экран методом **tail()**: так как ошибка возникает на последней строке, 5 значений с конца будет достаточно."
      ]
    },
    {
      "cell_type": "code",
      "execution_count": 22,
      "metadata": {
        "colab": {
          "base_uri": "https://localhost:8080/"
        },
        "id": "O_B54wJyKD_z",
        "outputId": "bd93c452-9a6b-4d5a-bdcf-f92ad57f00f0"
      },
      "outputs": [
        {
          "output_type": "stream",
          "name": "stdout",
          "text": [
            "              id category    amount\n",
            "44  6.007483e+11        A   8958.23\n",
            "45  6.007483e+11        C  12771.10\n",
            "46  6.007483e+11        E   9630.56\n",
            "47  6.007483e+11     Null       NaN\n",
            "48           NaN        A  14327.22\n"
          ]
        }
      ],
      "source": [
        "#Youre code is here\n",
        "print(transactions.tail())"
      ]
    },
    {
      "cell_type": "markdown",
      "metadata": {
        "id": "3b19n-LmKD_z"
      },
      "source": [
        "3. Вызовите метод **info()** после преобразований ещё раз. Проверьте, повлияла ли работа **pd.to_numeric(transactions['id'], errors='coerce')** на тип значений в столбце **id**."
      ]
    },
    {
      "cell_type": "code",
      "execution_count": 23,
      "metadata": {
        "colab": {
          "base_uri": "https://localhost:8080/"
        },
        "id": "6fj3ZeAUKD_z",
        "outputId": "e63ef266-be30-418e-c87a-4d1a447fa82b"
      },
      "outputs": [
        {
          "output_type": "stream",
          "name": "stdout",
          "text": [
            "<class 'pandas.core.frame.DataFrame'>\n",
            "RangeIndex: 49 entries, 0 to 48\n",
            "Data columns (total 3 columns):\n",
            " #   Column    Non-Null Count  Dtype  \n",
            "---  ------    --------------  -----  \n",
            " 0   id        48 non-null     float64\n",
            " 1   category  49 non-null     object \n",
            " 2   amount    45 non-null     float64\n",
            "dtypes: float64(2), object(1)\n",
            "memory usage: 1.3+ KB\n"
          ]
        }
      ],
      "source": [
        "#Youre code is here\n",
        "transactions.info()"
      ]
    },
    {
      "cell_type": "markdown",
      "metadata": {
        "id": "ncjlEcncKD_z"
      },
      "source": [
        "4. Методом **to_numeric()** превратите значения столбца **amount** в числа, заменив некорректные значения на NaN. Проверьте результаты преобразований методом **info()**."
      ]
    },
    {
      "cell_type": "code",
      "execution_count": 24,
      "metadata": {
        "colab": {
          "base_uri": "https://localhost:8080/"
        },
        "id": "KmAsD_BcKD_z",
        "outputId": "65a78c1e-5d01-4e71-ab68-91a347d859e7"
      },
      "outputs": [
        {
          "output_type": "stream",
          "name": "stdout",
          "text": [
            "<class 'pandas.core.frame.DataFrame'>\n",
            "RangeIndex: 49 entries, 0 to 48\n",
            "Data columns (total 3 columns):\n",
            " #   Column    Non-Null Count  Dtype  \n",
            "---  ------    --------------  -----  \n",
            " 0   id        48 non-null     float64\n",
            " 1   category  49 non-null     object \n",
            " 2   amount    45 non-null     float64\n",
            "dtypes: float64(2), object(1)\n",
            "memory usage: 1.3+ KB\n"
          ]
        }
      ],
      "source": [
        "#Youre code is here\n",
        "transactions['amount'] = pd.to_numeric(transactions['amount'], errors='coerce')\n",
        "transactions.info()"
      ]
    },
    {
      "cell_type": "markdown",
      "metadata": {
        "id": "Y7NSeJSMKD_z"
      },
      "source": [
        "5. Посчитайте общую стоимость проданных товаров — сумму значений столбца **amount** в датафрейме **transactions**. Результат выведите на экран."
      ]
    },
    {
      "cell_type": "code",
      "execution_count": 25,
      "metadata": {
        "colab": {
          "base_uri": "https://localhost:8080/"
        },
        "id": "soen9unJKD_z",
        "outputId": "43e1a1a9-7aea-4e4a-81d9-77bee0cc0f12"
      },
      "outputs": [
        {
          "output_type": "stream",
          "name": "stdout",
          "text": [
            "Общая стоимость проданных товаров: 596107.1\n"
          ]
        }
      ],
      "source": [
        "#Youre code is here\n",
        "total_amount = transactions['amount'].sum()\n",
        "\n",
        "# Вывод результата на экран\n",
        "print(\"Общая стоимость проданных товаров:\", total_amount)"
      ]
    },
    {
      "cell_type": "markdown",
      "metadata": {
        "id": "-G8I2m1mKD_z"
      },
      "source": [
        "6.\n",
        "Рассчитайте сумму продаж для каждой категории. Для этого сгруппируйте датафрейм **transactions** по столбцу **category** и примените метод **sum()** к столбцу **amount**. Выведите результат на экран."
      ]
    },
    {
      "cell_type": "code",
      "execution_count": 26,
      "metadata": {
        "colab": {
          "base_uri": "https://localhost:8080/"
        },
        "id": "Zp0Ri9kHKD_z",
        "outputId": "30d10569-11c4-4678-a1a0-db1494f5b626"
      },
      "outputs": [
        {
          "output_type": "stream",
          "name": "stdout",
          "text": [
            "category\n",
            "A       133988.50\n",
            "B       168617.89\n",
            "C       173332.50\n",
            "D        62630.82\n",
            "E        57537.39\n",
            "Null         0.00\n",
            "Name: amount, dtype: float64\n"
          ]
        }
      ],
      "source": [
        "#Youre code is here\n",
        "# Группировка по столбцу category и подсчет суммы в столбце amount\n",
        "result = transactions.groupby('category')['amount'].sum()\n",
        "\n",
        "# Вывод результата на экран\n",
        "print(result)"
      ]
    },
    {
      "cell_type": "markdown",
      "metadata": {
        "id": "1lnwSZg3KD_z"
      },
      "source": [
        "7. Вернитесь к таблице с трафиком  (датасет data). При попытке сгруппировать датафрейм 'data' по источнику трафика и посчитать сумму визитов, вместо ожидаемого результата получили странное склеивание идентификаторов подкатегорий. Но теперь  вы сможете найти сумму визитов.\n",
        "\n",
        "Переведите значения столбца **visits** датафрейма data в числовой тип методом **to_numeric()**."
      ]
    },
    {
      "cell_type": "code",
      "execution_count": 27,
      "metadata": {
        "id": "iKjNxHfnKD_z"
      },
      "outputs": [],
      "source": [
        "# Преобразование столбца 'visits' в числовой формат\n",
        "data['visits'] = pd.to_numeric(data['visits'], errors='coerce')"
      ]
    },
    {
      "cell_type": "markdown",
      "metadata": {
        "id": "B8xmq018KD_z"
      },
      "source": [
        "8. Узнайте, что не так со строкой 964. Вызовите знакомый из вводного курса метод **loc**.\n",
        "Он позволяет обращаться к датафрейму по значению индекса, в нашем случае как раз по номеру строки.\n"
      ]
    },
    {
      "cell_type": "code",
      "execution_count": 28,
      "metadata": {
        "colab": {
          "base_uri": "https://localhost:8080/",
          "height": 178
        },
        "id": "WKdcwANbKD_z",
        "outputId": "493732a6-04dd-4402-beff-6bdf6baacc3c"
      },
      "outputs": [
        {
          "output_type": "execute_result",
          "data": {
            "text/plain": [
              "subcategory_id     total\n",
              "source            direct\n",
              "visits               NaN\n",
              "Name: 964, dtype: object"
            ],
            "text/html": [
              "<div>\n",
              "<style scoped>\n",
              "    .dataframe tbody tr th:only-of-type {\n",
              "        vertical-align: middle;\n",
              "    }\n",
              "\n",
              "    .dataframe tbody tr th {\n",
              "        vertical-align: top;\n",
              "    }\n",
              "\n",
              "    .dataframe thead th {\n",
              "        text-align: right;\n",
              "    }\n",
              "</style>\n",
              "<table border=\"1\" class=\"dataframe\">\n",
              "  <thead>\n",
              "    <tr style=\"text-align: right;\">\n",
              "      <th></th>\n",
              "      <th>964</th>\n",
              "    </tr>\n",
              "  </thead>\n",
              "  <tbody>\n",
              "    <tr>\n",
              "      <th>subcategory_id</th>\n",
              "      <td>total</td>\n",
              "    </tr>\n",
              "    <tr>\n",
              "      <th>source</th>\n",
              "      <td>direct</td>\n",
              "    </tr>\n",
              "    <tr>\n",
              "      <th>visits</th>\n",
              "      <td>NaN</td>\n",
              "    </tr>\n",
              "  </tbody>\n",
              "</table>\n",
              "</div><br><label><b>dtype:</b> object</label>"
            ]
          },
          "metadata": {},
          "execution_count": 28
        }
      ],
      "source": [
        "data.iloc[964]"
      ]
    },
    {
      "cell_type": "markdown",
      "metadata": {
        "id": "C71ogcpqKD_z"
      },
      "source": [
        "9. Вычислите, сколько всего строк в датафрейме и выведите на экран в формате:\n",
        "\n",
        "Количество строк:\n",
        "\n",
        "Затем выведите на экран строки, которые имеют значение **'total'** в столбце **'subcategory_id'**. Изучите полученные результаты: сколько строк портят весь датасет?"
      ]
    },
    {
      "cell_type": "code",
      "execution_count": 29,
      "metadata": {
        "colab": {
          "base_uri": "https://localhost:8080/"
        },
        "id": "gQOOHgATKD_0",
        "outputId": "a80d7e59-e6aa-43a4-f478-958644bbb9b7"
      },
      "outputs": [
        {
          "output_type": "stream",
          "name": "stdout",
          "text": [
            "     subcategory_id   source  visits\n",
            "964           total   direct     NaN\n",
            "1929          total  organic     NaN\n"
          ]
        }
      ],
      "source": [
        "# Фильтрация строк\n",
        "filtered_df = data[data['subcategory_id'] == 'total']\n",
        "\n",
        "# Вывод отфильтрованных строк\n",
        "print(filtered_df)"
      ]
    },
    {
      "cell_type": "markdown",
      "metadata": {
        "id": "vrEFaL5UKD_2"
      },
      "source": [
        "10. Оставьте в датафрейме только строки, удовлетворяющие условию **data['subcategory_id'] != 'total'**. Проверьте результат: выведите на экран датафрейм с условием **data['subcategory_id'] == 'total'**."
      ]
    },
    {
      "cell_type": "code",
      "execution_count": 30,
      "metadata": {
        "colab": {
          "base_uri": "https://localhost:8080/",
          "height": 53
        },
        "id": "qCHOFTGmKD_2",
        "outputId": "6b7acdb0-5cb8-4145-cb4d-0db98ddbb008"
      },
      "outputs": [
        {
          "output_type": "execute_result",
          "data": {
            "text/plain": [
              "Empty DataFrame\n",
              "Columns: [subcategory_id, source, visits]\n",
              "Index: []"
            ],
            "text/html": [
              "\n",
              "  <div id=\"df-219abe38-82ea-44ba-ab1f-16994eedca0c\" class=\"colab-df-container\">\n",
              "    <div>\n",
              "<style scoped>\n",
              "    .dataframe tbody tr th:only-of-type {\n",
              "        vertical-align: middle;\n",
              "    }\n",
              "\n",
              "    .dataframe tbody tr th {\n",
              "        vertical-align: top;\n",
              "    }\n",
              "\n",
              "    .dataframe thead th {\n",
              "        text-align: right;\n",
              "    }\n",
              "</style>\n",
              "<table border=\"1\" class=\"dataframe\">\n",
              "  <thead>\n",
              "    <tr style=\"text-align: right;\">\n",
              "      <th></th>\n",
              "      <th>subcategory_id</th>\n",
              "      <th>source</th>\n",
              "      <th>visits</th>\n",
              "    </tr>\n",
              "  </thead>\n",
              "  <tbody>\n",
              "  </tbody>\n",
              "</table>\n",
              "</div>\n",
              "    <div class=\"colab-df-buttons\">\n",
              "\n",
              "  <div class=\"colab-df-container\">\n",
              "    <button class=\"colab-df-convert\" onclick=\"convertToInteractive('df-219abe38-82ea-44ba-ab1f-16994eedca0c')\"\n",
              "            title=\"Convert this dataframe to an interactive table.\"\n",
              "            style=\"display:none;\">\n",
              "\n",
              "  <svg xmlns=\"http://www.w3.org/2000/svg\" height=\"24px\" viewBox=\"0 -960 960 960\">\n",
              "    <path d=\"M120-120v-720h720v720H120Zm60-500h600v-160H180v160Zm220 220h160v-160H400v160Zm0 220h160v-160H400v160ZM180-400h160v-160H180v160Zm440 0h160v-160H620v160ZM180-180h160v-160H180v160Zm440 0h160v-160H620v160Z\"/>\n",
              "  </svg>\n",
              "    </button>\n",
              "\n",
              "  <style>\n",
              "    .colab-df-container {\n",
              "      display:flex;\n",
              "      gap: 12px;\n",
              "    }\n",
              "\n",
              "    .colab-df-convert {\n",
              "      background-color: #E8F0FE;\n",
              "      border: none;\n",
              "      border-radius: 50%;\n",
              "      cursor: pointer;\n",
              "      display: none;\n",
              "      fill: #1967D2;\n",
              "      height: 32px;\n",
              "      padding: 0 0 0 0;\n",
              "      width: 32px;\n",
              "    }\n",
              "\n",
              "    .colab-df-convert:hover {\n",
              "      background-color: #E2EBFA;\n",
              "      box-shadow: 0px 1px 2px rgba(60, 64, 67, 0.3), 0px 1px 3px 1px rgba(60, 64, 67, 0.15);\n",
              "      fill: #174EA6;\n",
              "    }\n",
              "\n",
              "    .colab-df-buttons div {\n",
              "      margin-bottom: 4px;\n",
              "    }\n",
              "\n",
              "    [theme=dark] .colab-df-convert {\n",
              "      background-color: #3B4455;\n",
              "      fill: #D2E3FC;\n",
              "    }\n",
              "\n",
              "    [theme=dark] .colab-df-convert:hover {\n",
              "      background-color: #434B5C;\n",
              "      box-shadow: 0px 1px 3px 1px rgba(0, 0, 0, 0.15);\n",
              "      filter: drop-shadow(0px 1px 2px rgba(0, 0, 0, 0.3));\n",
              "      fill: #FFFFFF;\n",
              "    }\n",
              "  </style>\n",
              "\n",
              "    <script>\n",
              "      const buttonEl =\n",
              "        document.querySelector('#df-219abe38-82ea-44ba-ab1f-16994eedca0c button.colab-df-convert');\n",
              "      buttonEl.style.display =\n",
              "        google.colab.kernel.accessAllowed ? 'block' : 'none';\n",
              "\n",
              "      async function convertToInteractive(key) {\n",
              "        const element = document.querySelector('#df-219abe38-82ea-44ba-ab1f-16994eedca0c');\n",
              "        const dataTable =\n",
              "          await google.colab.kernel.invokeFunction('convertToInteractive',\n",
              "                                                    [key], {});\n",
              "        if (!dataTable) return;\n",
              "\n",
              "        const docLinkHtml = 'Like what you see? Visit the ' +\n",
              "          '<a target=\"_blank\" href=https://colab.research.google.com/notebooks/data_table.ipynb>data table notebook</a>'\n",
              "          + ' to learn more about interactive tables.';\n",
              "        element.innerHTML = '';\n",
              "        dataTable['output_type'] = 'display_data';\n",
              "        await google.colab.output.renderOutput(dataTable, element);\n",
              "        const docLink = document.createElement('div');\n",
              "        docLink.innerHTML = docLinkHtml;\n",
              "        element.appendChild(docLink);\n",
              "      }\n",
              "    </script>\n",
              "  </div>\n",
              "\n",
              "    </div>\n",
              "  </div>\n"
            ],
            "application/vnd.google.colaboratory.intrinsic+json": {
              "type": "dataframe",
              "repr_error": "Out of range float values are not JSON compliant: nan"
            }
          },
          "metadata": {},
          "execution_count": 30
        }
      ],
      "source": [
        "data = data.loc[data['subcategory_id'] != 'total']\n",
        "data.loc[data['subcategory_id'] == 'total']"
      ]
    },
    {
      "cell_type": "markdown",
      "metadata": {
        "id": "S9859OwrKD_2"
      },
      "source": [
        "11. Измените тип данных в столбце **['visits']** на **integer**. Проверьте полученный результат, вызвав метод **info()**."
      ]
    },
    {
      "cell_type": "code",
      "execution_count": 31,
      "metadata": {
        "colab": {
          "base_uri": "https://localhost:8080/"
        },
        "id": "hHPNiM8VKD_2",
        "outputId": "ac905a1c-55be-4987-d447-c3ce901861bc"
      },
      "outputs": [
        {
          "output_type": "stream",
          "name": "stdout",
          "text": [
            "<class 'pandas.core.frame.DataFrame'>\n",
            "Index: 1928 entries, 0 to 1928\n",
            "Data columns (total 3 columns):\n",
            " #   Column          Non-Null Count  Dtype \n",
            "---  ------          --------------  ----- \n",
            " 0   subcategory_id  1928 non-null   object\n",
            " 1   source          1928 non-null   object\n",
            " 2   visits          1928 non-null   int64 \n",
            "dtypes: int64(1), object(2)\n",
            "memory usage: 60.2+ KB\n",
            "None\n"
          ]
        }
      ],
      "source": [
        "data['visits'] = pd.to_numeric(data['visits'], errors='coerce').fillna(0).astype(int)\n",
        "\n",
        "print(data.info())"
      ]
    },
    {
      "cell_type": "markdown",
      "source": [
        "12. Сгруппируйте данные по источникам и вычислите количество визитов для каждого источника. Выведите результат на экран."
      ],
      "metadata": {
        "id": "0YDkwbzfN_y4"
      }
    },
    {
      "cell_type": "code",
      "source": [
        "# Сгруппировать данные по источникам и вычислить количество визитов\n",
        "data.groupby('source')['visits'].sum().reset_index()"
      ],
      "metadata": {
        "colab": {
          "base_uri": "https://localhost:8080/",
          "height": 112
        },
        "id": "1h3gPEi-N9Du",
        "outputId": "1b92853e-3482-4958-ec21-bb149e759f9f"
      },
      "execution_count": 32,
      "outputs": [
        {
          "output_type": "execute_result",
          "data": {
            "text/plain": [
              "    source   visits\n",
              "0   direct  2368980\n",
              "1  organic  5687407"
            ],
            "text/html": [
              "\n",
              "  <div id=\"df-0ce9a647-a5cc-42b3-a78b-60b57732982a\" class=\"colab-df-container\">\n",
              "    <div>\n",
              "<style scoped>\n",
              "    .dataframe tbody tr th:only-of-type {\n",
              "        vertical-align: middle;\n",
              "    }\n",
              "\n",
              "    .dataframe tbody tr th {\n",
              "        vertical-align: top;\n",
              "    }\n",
              "\n",
              "    .dataframe thead th {\n",
              "        text-align: right;\n",
              "    }\n",
              "</style>\n",
              "<table border=\"1\" class=\"dataframe\">\n",
              "  <thead>\n",
              "    <tr style=\"text-align: right;\">\n",
              "      <th></th>\n",
              "      <th>source</th>\n",
              "      <th>visits</th>\n",
              "    </tr>\n",
              "  </thead>\n",
              "  <tbody>\n",
              "    <tr>\n",
              "      <th>0</th>\n",
              "      <td>direct</td>\n",
              "      <td>2368980</td>\n",
              "    </tr>\n",
              "    <tr>\n",
              "      <th>1</th>\n",
              "      <td>organic</td>\n",
              "      <td>5687407</td>\n",
              "    </tr>\n",
              "  </tbody>\n",
              "</table>\n",
              "</div>\n",
              "    <div class=\"colab-df-buttons\">\n",
              "\n",
              "  <div class=\"colab-df-container\">\n",
              "    <button class=\"colab-df-convert\" onclick=\"convertToInteractive('df-0ce9a647-a5cc-42b3-a78b-60b57732982a')\"\n",
              "            title=\"Convert this dataframe to an interactive table.\"\n",
              "            style=\"display:none;\">\n",
              "\n",
              "  <svg xmlns=\"http://www.w3.org/2000/svg\" height=\"24px\" viewBox=\"0 -960 960 960\">\n",
              "    <path d=\"M120-120v-720h720v720H120Zm60-500h600v-160H180v160Zm220 220h160v-160H400v160Zm0 220h160v-160H400v160ZM180-400h160v-160H180v160Zm440 0h160v-160H620v160ZM180-180h160v-160H180v160Zm440 0h160v-160H620v160Z\"/>\n",
              "  </svg>\n",
              "    </button>\n",
              "\n",
              "  <style>\n",
              "    .colab-df-container {\n",
              "      display:flex;\n",
              "      gap: 12px;\n",
              "    }\n",
              "\n",
              "    .colab-df-convert {\n",
              "      background-color: #E8F0FE;\n",
              "      border: none;\n",
              "      border-radius: 50%;\n",
              "      cursor: pointer;\n",
              "      display: none;\n",
              "      fill: #1967D2;\n",
              "      height: 32px;\n",
              "      padding: 0 0 0 0;\n",
              "      width: 32px;\n",
              "    }\n",
              "\n",
              "    .colab-df-convert:hover {\n",
              "      background-color: #E2EBFA;\n",
              "      box-shadow: 0px 1px 2px rgba(60, 64, 67, 0.3), 0px 1px 3px 1px rgba(60, 64, 67, 0.15);\n",
              "      fill: #174EA6;\n",
              "    }\n",
              "\n",
              "    .colab-df-buttons div {\n",
              "      margin-bottom: 4px;\n",
              "    }\n",
              "\n",
              "    [theme=dark] .colab-df-convert {\n",
              "      background-color: #3B4455;\n",
              "      fill: #D2E3FC;\n",
              "    }\n",
              "\n",
              "    [theme=dark] .colab-df-convert:hover {\n",
              "      background-color: #434B5C;\n",
              "      box-shadow: 0px 1px 3px 1px rgba(0, 0, 0, 0.15);\n",
              "      filter: drop-shadow(0px 1px 2px rgba(0, 0, 0, 0.3));\n",
              "      fill: #FFFFFF;\n",
              "    }\n",
              "  </style>\n",
              "\n",
              "    <script>\n",
              "      const buttonEl =\n",
              "        document.querySelector('#df-0ce9a647-a5cc-42b3-a78b-60b57732982a button.colab-df-convert');\n",
              "      buttonEl.style.display =\n",
              "        google.colab.kernel.accessAllowed ? 'block' : 'none';\n",
              "\n",
              "      async function convertToInteractive(key) {\n",
              "        const element = document.querySelector('#df-0ce9a647-a5cc-42b3-a78b-60b57732982a');\n",
              "        const dataTable =\n",
              "          await google.colab.kernel.invokeFunction('convertToInteractive',\n",
              "                                                    [key], {});\n",
              "        if (!dataTable) return;\n",
              "\n",
              "        const docLinkHtml = 'Like what you see? Visit the ' +\n",
              "          '<a target=\"_blank\" href=https://colab.research.google.com/notebooks/data_table.ipynb>data table notebook</a>'\n",
              "          + ' to learn more about interactive tables.';\n",
              "        element.innerHTML = '';\n",
              "        dataTable['output_type'] = 'display_data';\n",
              "        await google.colab.output.renderOutput(dataTable, element);\n",
              "        const docLink = document.createElement('div');\n",
              "        docLink.innerHTML = docLinkHtml;\n",
              "        element.appendChild(docLink);\n",
              "      }\n",
              "    </script>\n",
              "  </div>\n",
              "\n",
              "\n",
              "<div id=\"df-6bcecdc4-2f6e-48f9-b62a-80474da43975\">\n",
              "  <button class=\"colab-df-quickchart\" onclick=\"quickchart('df-6bcecdc4-2f6e-48f9-b62a-80474da43975')\"\n",
              "            title=\"Suggest charts\"\n",
              "            style=\"display:none;\">\n",
              "\n",
              "<svg xmlns=\"http://www.w3.org/2000/svg\" height=\"24px\"viewBox=\"0 0 24 24\"\n",
              "     width=\"24px\">\n",
              "    <g>\n",
              "        <path d=\"M19 3H5c-1.1 0-2 .9-2 2v14c0 1.1.9 2 2 2h14c1.1 0 2-.9 2-2V5c0-1.1-.9-2-2-2zM9 17H7v-7h2v7zm4 0h-2V7h2v10zm4 0h-2v-4h2v4z\"/>\n",
              "    </g>\n",
              "</svg>\n",
              "  </button>\n",
              "\n",
              "<style>\n",
              "  .colab-df-quickchart {\n",
              "      --bg-color: #E8F0FE;\n",
              "      --fill-color: #1967D2;\n",
              "      --hover-bg-color: #E2EBFA;\n",
              "      --hover-fill-color: #174EA6;\n",
              "      --disabled-fill-color: #AAA;\n",
              "      --disabled-bg-color: #DDD;\n",
              "  }\n",
              "\n",
              "  [theme=dark] .colab-df-quickchart {\n",
              "      --bg-color: #3B4455;\n",
              "      --fill-color: #D2E3FC;\n",
              "      --hover-bg-color: #434B5C;\n",
              "      --hover-fill-color: #FFFFFF;\n",
              "      --disabled-bg-color: #3B4455;\n",
              "      --disabled-fill-color: #666;\n",
              "  }\n",
              "\n",
              "  .colab-df-quickchart {\n",
              "    background-color: var(--bg-color);\n",
              "    border: none;\n",
              "    border-radius: 50%;\n",
              "    cursor: pointer;\n",
              "    display: none;\n",
              "    fill: var(--fill-color);\n",
              "    height: 32px;\n",
              "    padding: 0;\n",
              "    width: 32px;\n",
              "  }\n",
              "\n",
              "  .colab-df-quickchart:hover {\n",
              "    background-color: var(--hover-bg-color);\n",
              "    box-shadow: 0 1px 2px rgba(60, 64, 67, 0.3), 0 1px 3px 1px rgba(60, 64, 67, 0.15);\n",
              "    fill: var(--button-hover-fill-color);\n",
              "  }\n",
              "\n",
              "  .colab-df-quickchart-complete:disabled,\n",
              "  .colab-df-quickchart-complete:disabled:hover {\n",
              "    background-color: var(--disabled-bg-color);\n",
              "    fill: var(--disabled-fill-color);\n",
              "    box-shadow: none;\n",
              "  }\n",
              "\n",
              "  .colab-df-spinner {\n",
              "    border: 2px solid var(--fill-color);\n",
              "    border-color: transparent;\n",
              "    border-bottom-color: var(--fill-color);\n",
              "    animation:\n",
              "      spin 1s steps(1) infinite;\n",
              "  }\n",
              "\n",
              "  @keyframes spin {\n",
              "    0% {\n",
              "      border-color: transparent;\n",
              "      border-bottom-color: var(--fill-color);\n",
              "      border-left-color: var(--fill-color);\n",
              "    }\n",
              "    20% {\n",
              "      border-color: transparent;\n",
              "      border-left-color: var(--fill-color);\n",
              "      border-top-color: var(--fill-color);\n",
              "    }\n",
              "    30% {\n",
              "      border-color: transparent;\n",
              "      border-left-color: var(--fill-color);\n",
              "      border-top-color: var(--fill-color);\n",
              "      border-right-color: var(--fill-color);\n",
              "    }\n",
              "    40% {\n",
              "      border-color: transparent;\n",
              "      border-right-color: var(--fill-color);\n",
              "      border-top-color: var(--fill-color);\n",
              "    }\n",
              "    60% {\n",
              "      border-color: transparent;\n",
              "      border-right-color: var(--fill-color);\n",
              "    }\n",
              "    80% {\n",
              "      border-color: transparent;\n",
              "      border-right-color: var(--fill-color);\n",
              "      border-bottom-color: var(--fill-color);\n",
              "    }\n",
              "    90% {\n",
              "      border-color: transparent;\n",
              "      border-bottom-color: var(--fill-color);\n",
              "    }\n",
              "  }\n",
              "</style>\n",
              "\n",
              "  <script>\n",
              "    async function quickchart(key) {\n",
              "      const quickchartButtonEl =\n",
              "        document.querySelector('#' + key + ' button');\n",
              "      quickchartButtonEl.disabled = true;  // To prevent multiple clicks.\n",
              "      quickchartButtonEl.classList.add('colab-df-spinner');\n",
              "      try {\n",
              "        const charts = await google.colab.kernel.invokeFunction(\n",
              "            'suggestCharts', [key], {});\n",
              "      } catch (error) {\n",
              "        console.error('Error during call to suggestCharts:', error);\n",
              "      }\n",
              "      quickchartButtonEl.classList.remove('colab-df-spinner');\n",
              "      quickchartButtonEl.classList.add('colab-df-quickchart-complete');\n",
              "    }\n",
              "    (() => {\n",
              "      let quickchartButtonEl =\n",
              "        document.querySelector('#df-6bcecdc4-2f6e-48f9-b62a-80474da43975 button');\n",
              "      quickchartButtonEl.style.display =\n",
              "        google.colab.kernel.accessAllowed ? 'block' : 'none';\n",
              "    })();\n",
              "  </script>\n",
              "</div>\n",
              "    </div>\n",
              "  </div>\n"
            ],
            "application/vnd.google.colaboratory.intrinsic+json": {
              "type": "dataframe",
              "summary": "{\n  \"name\": \"data\",\n  \"rows\": 2,\n  \"fields\": [\n    {\n      \"column\": \"source\",\n      \"properties\": {\n        \"dtype\": \"string\",\n        \"num_unique_values\": 2,\n        \"samples\": [\n          \"organic\",\n          \"direct\"\n        ],\n        \"semantic_type\": \"\",\n        \"description\": \"\"\n      }\n    },\n    {\n      \"column\": \"visits\",\n      \"properties\": {\n        \"dtype\": \"number\",\n        \"std\": 2346482,\n        \"min\": 2368980,\n        \"max\": 5687407,\n        \"num_unique_values\": 2,\n        \"samples\": [\n          5687407,\n          2368980\n        ],\n        \"semantic_type\": \"\",\n        \"description\": \"\"\n      }\n    }\n  ]\n}"
            }
          },
          "metadata": {},
          "execution_count": 32
        }
      ]
    },
    {
      "cell_type": "markdown",
      "metadata": {
        "id": "LyVFFhtcKD_2"
      },
      "source": [
        "# Метод merge()\n",
        "\n",
        "Вы получили первые выводы: на органический трафик приходится в два раза больше визитов пользователей. Однако исследование на этом не закончено — нужно изучить трафик для каждой категории товаров.\n",
        "\n",
        "Данные хранят в Excel-таблице из нескольких листов. Как смотреть на категории, подкатегории и трафик в одном месте? Идея — склеить таблицы!\n",
        "\n",
        "Объединим несколько таблиц в одну методом **merge()**.\n",
        "\n",
        "Метод **merge()** применяют к таблице, к которой присоединяют другую. У метода следующие аргументы:\n",
        "\n",
        "•\t**right** — имя **DataFrame** или **Series**, присоединяемого к исходной таблице (\"правая таблица\")\n",
        "\n",
        "•\t**on** — название общего списка в двух соединяемых таблицах: по нему происходит слияние (\"ключи\")\n",
        "\n",
        "•\t**how** — тип объединения (outer, inner, left, right)\n",
        "Объединим таблицы **data** и **subcategory_dict** со следующими условиями:\n",
        "\n",
        "•\t**data** — таблица, к которой будем присоединять другую таблицу\n",
        "\n",
        "•\t**subcategory_dict** — таблица, которую присоединяем к data\n",
        "\n",
        "•\t**'subcategory_id'** — общий столбец в двух таблицах, по нему будем объединять\n",
        "\n",
        "•\t**how='left'** — id таблицы **data** включены в итоговую таблицу **data_subcategory**\n"
      ]
    },
    {
      "cell_type": "code",
      "execution_count": 33,
      "metadata": {
        "colab": {
          "base_uri": "https://localhost:8080/"
        },
        "id": "SS1yqnxJKD_2",
        "outputId": "5c70fd1a-a0aa-4142-fa8d-804eebedf7bc"
      },
      "outputs": [
        {
          "output_type": "stream",
          "name": "stdout",
          "text": [
            "  subcategory_id  source  visits                subcategory_name category_id\n",
            "0     cf2e61c7af  direct  501165              Мобильные телефоны  09f279a643\n",
            "1     0cd903d1cc  direct  126342                        Ноутбуки  3509869a61\n",
            "2     ef35bc88a7  direct   95626                      Телевизоры  09f279a643\n",
            "3     6ff9f4014c  direct   75680                        Планшеты  3509869a61\n",
            "4     72bc238e4d  direct   64435  Наушники и Bluetooth-гарнитуры  09f279a643\n",
            "5     88c78ea685  direct   39638                            Шины  65922fa39c\n",
            "6     179bfacf4a  direct   31007           Умные часы и браслеты  09f279a643\n",
            "7     b0fb8f259a  direct   30324                        Мониторы  3509869a61\n",
            "8     3c67eb2d90  direct   25878                   Наручные часы  6074ad29ac\n",
            "9     24e6c815c6  direct   25276  Лекарственные препараты и БАДы  10a493e03b\n"
          ]
        }
      ],
      "source": [
        "data_subcategory = data.merge(subcategory_dict, on='subcategory_id', how='left')\n",
        "print(data_subcategory.head(10))\n"
      ]
    },
    {
      "cell_type": "markdown",
      "metadata": {
        "id": "Rq-JnddUKD_3"
      },
      "source": [
        "## Задача:\n",
        "\n",
        "1. Объедините таблицы **data_subcategory** и **category_dict**. Результат сохраните в переменной **data_final** и выведите на экран первые 10 строк новой таблицы."
      ]
    },
    {
      "cell_type": "code",
      "execution_count": 34,
      "metadata": {
        "colab": {
          "base_uri": "https://localhost:8080/"
        },
        "id": "d1aa9hSKKD_3",
        "outputId": "9592429f-a6bd-4b48-d500-8b27742094e6"
      },
      "outputs": [
        {
          "output_type": "stream",
          "name": "stdout",
          "text": [
            "  subcategory_id  source  visits                subcategory_name category_id  \\\n",
            "0     cf2e61c7af  direct  501165              Мобильные телефоны  09f279a643   \n",
            "1     0cd903d1cc  direct  126342                        Ноутбуки  3509869a61   \n",
            "2     ef35bc88a7  direct   95626                      Телевизоры  09f279a643   \n",
            "3     6ff9f4014c  direct   75680                        Планшеты  3509869a61   \n",
            "4     72bc238e4d  direct   64435  Наушники и Bluetooth-гарнитуры  09f279a643   \n",
            "5     88c78ea685  direct   39638                            Шины  65922fa39c   \n",
            "6     179bfacf4a  direct   31007           Умные часы и браслеты  09f279a643   \n",
            "7     b0fb8f259a  direct   30324                        Мониторы  3509869a61   \n",
            "8     3c67eb2d90  direct   25878                   Наручные часы  6074ad29ac   \n",
            "9     24e6c815c6  direct   25276  Лекарственные препараты и БАДы  10a493e03b   \n",
            "\n",
            "                category_name  \n",
            "0                 Электроника  \n",
            "1        Компьютерная техника  \n",
            "2                 Электроника  \n",
            "3        Компьютерная техника  \n",
            "4                 Электроника  \n",
            "5                        Авто  \n",
            "6                 Электроника  \n",
            "7        Компьютерная техника  \n",
            "8  Одежда, обувь и аксессуары  \n",
            "9         Товары для здоровья  \n"
          ]
        }
      ],
      "source": [
        "# Объединение таблиц по общему столбцу, например, 'category_id'\n",
        "data_final = pd.merge(data_subcategory, category_dict, on='category_id', how='left')\n",
        "\n",
        "# Вывод первых 10 строк новой таблицы\n",
        "print(data_final.head(10))"
      ]
    },
    {
      "cell_type": "markdown",
      "metadata": {
        "id": "jnX-RWQ9KD_3"
      },
      "source": [
        "# Сводные таблицы\n",
        "\n",
        "Сводная таблица — ваш помощник для обобщения данных и их наглядного представления.\n",
        "Перед вами таблица со статистикой продаж товаров в интернет-магазине. Известны название товара, дата продажи, количество, цена и стоимость доставки.\n",
        "\n",
        "\n",
        "По сводным таблицам можно точно сказать, сколько товара было продано в определённый день. Умение строить сводные таблицы позволяет быстро анализировать данные и сразу подготовить отчёты.\n",
        "\n",
        "Например, по данной сводной таблице можно легко ответить  на вопрос: «Сколько товара продал интернет-магазин 4 июня 2019 года?».\n",
        "\n"
      ]
    },
    {
      "cell_type": "markdown",
      "metadata": {
        "id": "YKtVDNaeKD_3"
      },
      "source": [
        "В Pandas для подготовки сводных таблиц вызывают метод **pivot_table()**.\n",
        "\n",
        "Аргументы метода:\n",
        "\n",
        "•\t**index** — столбец или столбцы, по которым группируют данные (название товара)\n",
        "\n",
        "•\t**columns** — столбец, по значениям которого происходит группировка (даты)\n",
        "\n",
        "•\t**values** — значения, по которым мы хотим увидеть сводную таблицу (количество проданного товара)\n",
        "\n",
        "•\t**aggfunc** — функция, применяемая к значениям (сумма товаров)\n",
        "\n",
        "Построим сводную таблицу для задачи по SEO-оптимизации.\n",
        "Сделаем по таблице **data_final** из предыдущего задания сводную таблицу методом **pivot_table()**:\n",
        "\n",
        "**data_pivot = data_final.pivot_table(index=['category_name', 'subcategory_name'], columns='source',\n",
        "                                    values='visits', aggfunc='sum')**\n"
      ]
    },
    {
      "cell_type": "code",
      "execution_count": 35,
      "metadata": {
        "colab": {
          "base_uri": "https://localhost:8080/",
          "height": 455
        },
        "id": "-137SoyLKD_3",
        "outputId": "646d96d8-d073-4f4a-a855-b08625e687dd"
      },
      "outputs": [
        {
          "output_type": "execute_result",
          "data": {
            "text/plain": [
              "source                                   direct  organic\n",
              "category_name subcategory_name                          \n",
              "Авто          Автоакустика                 5915    15433\n",
              "              Автомагнитолы                7783    18690\n",
              "              Автомобильные инверторы       145      150\n",
              "              Автомобильные компрессоры     407      790\n",
              "              Автомобильные телевизоры      975     2246\n",
              "...                                         ...      ...\n",
              "Электроника   Чехлы                        4582    11758\n",
              "              Чехлы-аккумуляторы            219      331\n",
              "              Штативы и моноподы           1152     2540\n",
              "              Экшн-камеры                  4757    12376\n",
              "              Электронные книги            4515    11364\n",
              "\n",
              "[934 rows x 2 columns]"
            ],
            "text/html": [
              "\n",
              "  <div id=\"df-d245c26c-781d-4b38-8230-694f0d423bbc\" class=\"colab-df-container\">\n",
              "    <div>\n",
              "<style scoped>\n",
              "    .dataframe tbody tr th:only-of-type {\n",
              "        vertical-align: middle;\n",
              "    }\n",
              "\n",
              "    .dataframe tbody tr th {\n",
              "        vertical-align: top;\n",
              "    }\n",
              "\n",
              "    .dataframe thead th {\n",
              "        text-align: right;\n",
              "    }\n",
              "</style>\n",
              "<table border=\"1\" class=\"dataframe\">\n",
              "  <thead>\n",
              "    <tr style=\"text-align: right;\">\n",
              "      <th></th>\n",
              "      <th>source</th>\n",
              "      <th>direct</th>\n",
              "      <th>organic</th>\n",
              "    </tr>\n",
              "    <tr>\n",
              "      <th>category_name</th>\n",
              "      <th>subcategory_name</th>\n",
              "      <th></th>\n",
              "      <th></th>\n",
              "    </tr>\n",
              "  </thead>\n",
              "  <tbody>\n",
              "    <tr>\n",
              "      <th rowspan=\"5\" valign=\"top\">Авто</th>\n",
              "      <th>Автоакустика</th>\n",
              "      <td>5915</td>\n",
              "      <td>15433</td>\n",
              "    </tr>\n",
              "    <tr>\n",
              "      <th>Автомагнитолы</th>\n",
              "      <td>7783</td>\n",
              "      <td>18690</td>\n",
              "    </tr>\n",
              "    <tr>\n",
              "      <th>Автомобильные инверторы</th>\n",
              "      <td>145</td>\n",
              "      <td>150</td>\n",
              "    </tr>\n",
              "    <tr>\n",
              "      <th>Автомобильные компрессоры</th>\n",
              "      <td>407</td>\n",
              "      <td>790</td>\n",
              "    </tr>\n",
              "    <tr>\n",
              "      <th>Автомобильные телевизоры</th>\n",
              "      <td>975</td>\n",
              "      <td>2246</td>\n",
              "    </tr>\n",
              "    <tr>\n",
              "      <th>...</th>\n",
              "      <th>...</th>\n",
              "      <td>...</td>\n",
              "      <td>...</td>\n",
              "    </tr>\n",
              "    <tr>\n",
              "      <th rowspan=\"5\" valign=\"top\">Электроника</th>\n",
              "      <th>Чехлы</th>\n",
              "      <td>4582</td>\n",
              "      <td>11758</td>\n",
              "    </tr>\n",
              "    <tr>\n",
              "      <th>Чехлы-аккумуляторы</th>\n",
              "      <td>219</td>\n",
              "      <td>331</td>\n",
              "    </tr>\n",
              "    <tr>\n",
              "      <th>Штативы и моноподы</th>\n",
              "      <td>1152</td>\n",
              "      <td>2540</td>\n",
              "    </tr>\n",
              "    <tr>\n",
              "      <th>Экшн-камеры</th>\n",
              "      <td>4757</td>\n",
              "      <td>12376</td>\n",
              "    </tr>\n",
              "    <tr>\n",
              "      <th>Электронные книги</th>\n",
              "      <td>4515</td>\n",
              "      <td>11364</td>\n",
              "    </tr>\n",
              "  </tbody>\n",
              "</table>\n",
              "<p>934 rows × 2 columns</p>\n",
              "</div>\n",
              "    <div class=\"colab-df-buttons\">\n",
              "\n",
              "  <div class=\"colab-df-container\">\n",
              "    <button class=\"colab-df-convert\" onclick=\"convertToInteractive('df-d245c26c-781d-4b38-8230-694f0d423bbc')\"\n",
              "            title=\"Convert this dataframe to an interactive table.\"\n",
              "            style=\"display:none;\">\n",
              "\n",
              "  <svg xmlns=\"http://www.w3.org/2000/svg\" height=\"24px\" viewBox=\"0 -960 960 960\">\n",
              "    <path d=\"M120-120v-720h720v720H120Zm60-500h600v-160H180v160Zm220 220h160v-160H400v160Zm0 220h160v-160H400v160ZM180-400h160v-160H180v160Zm440 0h160v-160H620v160ZM180-180h160v-160H180v160Zm440 0h160v-160H620v160Z\"/>\n",
              "  </svg>\n",
              "    </button>\n",
              "\n",
              "  <style>\n",
              "    .colab-df-container {\n",
              "      display:flex;\n",
              "      gap: 12px;\n",
              "    }\n",
              "\n",
              "    .colab-df-convert {\n",
              "      background-color: #E8F0FE;\n",
              "      border: none;\n",
              "      border-radius: 50%;\n",
              "      cursor: pointer;\n",
              "      display: none;\n",
              "      fill: #1967D2;\n",
              "      height: 32px;\n",
              "      padding: 0 0 0 0;\n",
              "      width: 32px;\n",
              "    }\n",
              "\n",
              "    .colab-df-convert:hover {\n",
              "      background-color: #E2EBFA;\n",
              "      box-shadow: 0px 1px 2px rgba(60, 64, 67, 0.3), 0px 1px 3px 1px rgba(60, 64, 67, 0.15);\n",
              "      fill: #174EA6;\n",
              "    }\n",
              "\n",
              "    .colab-df-buttons div {\n",
              "      margin-bottom: 4px;\n",
              "    }\n",
              "\n",
              "    [theme=dark] .colab-df-convert {\n",
              "      background-color: #3B4455;\n",
              "      fill: #D2E3FC;\n",
              "    }\n",
              "\n",
              "    [theme=dark] .colab-df-convert:hover {\n",
              "      background-color: #434B5C;\n",
              "      box-shadow: 0px 1px 3px 1px rgba(0, 0, 0, 0.15);\n",
              "      filter: drop-shadow(0px 1px 2px rgba(0, 0, 0, 0.3));\n",
              "      fill: #FFFFFF;\n",
              "    }\n",
              "  </style>\n",
              "\n",
              "    <script>\n",
              "      const buttonEl =\n",
              "        document.querySelector('#df-d245c26c-781d-4b38-8230-694f0d423bbc button.colab-df-convert');\n",
              "      buttonEl.style.display =\n",
              "        google.colab.kernel.accessAllowed ? 'block' : 'none';\n",
              "\n",
              "      async function convertToInteractive(key) {\n",
              "        const element = document.querySelector('#df-d245c26c-781d-4b38-8230-694f0d423bbc');\n",
              "        const dataTable =\n",
              "          await google.colab.kernel.invokeFunction('convertToInteractive',\n",
              "                                                    [key], {});\n",
              "        if (!dataTable) return;\n",
              "\n",
              "        const docLinkHtml = 'Like what you see? Visit the ' +\n",
              "          '<a target=\"_blank\" href=https://colab.research.google.com/notebooks/data_table.ipynb>data table notebook</a>'\n",
              "          + ' to learn more about interactive tables.';\n",
              "        element.innerHTML = '';\n",
              "        dataTable['output_type'] = 'display_data';\n",
              "        await google.colab.output.renderOutput(dataTable, element);\n",
              "        const docLink = document.createElement('div');\n",
              "        docLink.innerHTML = docLinkHtml;\n",
              "        element.appendChild(docLink);\n",
              "      }\n",
              "    </script>\n",
              "  </div>\n",
              "\n",
              "\n",
              "<div id=\"df-57a59fd3-cc40-49d0-a5a4-6cbc1969be6c\">\n",
              "  <button class=\"colab-df-quickchart\" onclick=\"quickchart('df-57a59fd3-cc40-49d0-a5a4-6cbc1969be6c')\"\n",
              "            title=\"Suggest charts\"\n",
              "            style=\"display:none;\">\n",
              "\n",
              "<svg xmlns=\"http://www.w3.org/2000/svg\" height=\"24px\"viewBox=\"0 0 24 24\"\n",
              "     width=\"24px\">\n",
              "    <g>\n",
              "        <path d=\"M19 3H5c-1.1 0-2 .9-2 2v14c0 1.1.9 2 2 2h14c1.1 0 2-.9 2-2V5c0-1.1-.9-2-2-2zM9 17H7v-7h2v7zm4 0h-2V7h2v10zm4 0h-2v-4h2v4z\"/>\n",
              "    </g>\n",
              "</svg>\n",
              "  </button>\n",
              "\n",
              "<style>\n",
              "  .colab-df-quickchart {\n",
              "      --bg-color: #E8F0FE;\n",
              "      --fill-color: #1967D2;\n",
              "      --hover-bg-color: #E2EBFA;\n",
              "      --hover-fill-color: #174EA6;\n",
              "      --disabled-fill-color: #AAA;\n",
              "      --disabled-bg-color: #DDD;\n",
              "  }\n",
              "\n",
              "  [theme=dark] .colab-df-quickchart {\n",
              "      --bg-color: #3B4455;\n",
              "      --fill-color: #D2E3FC;\n",
              "      --hover-bg-color: #434B5C;\n",
              "      --hover-fill-color: #FFFFFF;\n",
              "      --disabled-bg-color: #3B4455;\n",
              "      --disabled-fill-color: #666;\n",
              "  }\n",
              "\n",
              "  .colab-df-quickchart {\n",
              "    background-color: var(--bg-color);\n",
              "    border: none;\n",
              "    border-radius: 50%;\n",
              "    cursor: pointer;\n",
              "    display: none;\n",
              "    fill: var(--fill-color);\n",
              "    height: 32px;\n",
              "    padding: 0;\n",
              "    width: 32px;\n",
              "  }\n",
              "\n",
              "  .colab-df-quickchart:hover {\n",
              "    background-color: var(--hover-bg-color);\n",
              "    box-shadow: 0 1px 2px rgba(60, 64, 67, 0.3), 0 1px 3px 1px rgba(60, 64, 67, 0.15);\n",
              "    fill: var(--button-hover-fill-color);\n",
              "  }\n",
              "\n",
              "  .colab-df-quickchart-complete:disabled,\n",
              "  .colab-df-quickchart-complete:disabled:hover {\n",
              "    background-color: var(--disabled-bg-color);\n",
              "    fill: var(--disabled-fill-color);\n",
              "    box-shadow: none;\n",
              "  }\n",
              "\n",
              "  .colab-df-spinner {\n",
              "    border: 2px solid var(--fill-color);\n",
              "    border-color: transparent;\n",
              "    border-bottom-color: var(--fill-color);\n",
              "    animation:\n",
              "      spin 1s steps(1) infinite;\n",
              "  }\n",
              "\n",
              "  @keyframes spin {\n",
              "    0% {\n",
              "      border-color: transparent;\n",
              "      border-bottom-color: var(--fill-color);\n",
              "      border-left-color: var(--fill-color);\n",
              "    }\n",
              "    20% {\n",
              "      border-color: transparent;\n",
              "      border-left-color: var(--fill-color);\n",
              "      border-top-color: var(--fill-color);\n",
              "    }\n",
              "    30% {\n",
              "      border-color: transparent;\n",
              "      border-left-color: var(--fill-color);\n",
              "      border-top-color: var(--fill-color);\n",
              "      border-right-color: var(--fill-color);\n",
              "    }\n",
              "    40% {\n",
              "      border-color: transparent;\n",
              "      border-right-color: var(--fill-color);\n",
              "      border-top-color: var(--fill-color);\n",
              "    }\n",
              "    60% {\n",
              "      border-color: transparent;\n",
              "      border-right-color: var(--fill-color);\n",
              "    }\n",
              "    80% {\n",
              "      border-color: transparent;\n",
              "      border-right-color: var(--fill-color);\n",
              "      border-bottom-color: var(--fill-color);\n",
              "    }\n",
              "    90% {\n",
              "      border-color: transparent;\n",
              "      border-bottom-color: var(--fill-color);\n",
              "    }\n",
              "  }\n",
              "</style>\n",
              "\n",
              "  <script>\n",
              "    async function quickchart(key) {\n",
              "      const quickchartButtonEl =\n",
              "        document.querySelector('#' + key + ' button');\n",
              "      quickchartButtonEl.disabled = true;  // To prevent multiple clicks.\n",
              "      quickchartButtonEl.classList.add('colab-df-spinner');\n",
              "      try {\n",
              "        const charts = await google.colab.kernel.invokeFunction(\n",
              "            'suggestCharts', [key], {});\n",
              "      } catch (error) {\n",
              "        console.error('Error during call to suggestCharts:', error);\n",
              "      }\n",
              "      quickchartButtonEl.classList.remove('colab-df-spinner');\n",
              "      quickchartButtonEl.classList.add('colab-df-quickchart-complete');\n",
              "    }\n",
              "    (() => {\n",
              "      let quickchartButtonEl =\n",
              "        document.querySelector('#df-57a59fd3-cc40-49d0-a5a4-6cbc1969be6c button');\n",
              "      quickchartButtonEl.style.display =\n",
              "        google.colab.kernel.accessAllowed ? 'block' : 'none';\n",
              "    })();\n",
              "  </script>\n",
              "</div>\n",
              "    </div>\n",
              "  </div>\n"
            ],
            "application/vnd.google.colaboratory.intrinsic+json": {
              "type": "dataframe",
              "variable_name": "data_pivot",
              "summary": "{\n  \"name\": \"data_pivot\",\n  \"rows\": 934,\n  \"fields\": [\n    {\n      \"column\": \"direct\",\n      \"properties\": {\n        \"dtype\": \"number\",\n        \"std\": 17751,\n        \"min\": 27,\n        \"max\": 501165,\n        \"num_unique_values\": 710,\n        \"samples\": [\n          2514,\n          174,\n          4348\n        ],\n        \"semantic_type\": \"\",\n        \"description\": \"\"\n      }\n    },\n    {\n      \"column\": \"organic\",\n      \"properties\": {\n        \"dtype\": \"number\",\n        \"std\": 41802,\n        \"min\": 4,\n        \"max\": 1163658,\n        \"num_unique_values\": 819,\n        \"samples\": [\n          6328,\n          5074,\n          1388\n        ],\n        \"semantic_type\": \"\",\n        \"description\": \"\"\n      }\n    }\n  ]\n}"
            }
          },
          "metadata": {},
          "execution_count": 35
        }
      ],
      "source": [
        "data_pivot = data_final.pivot_table(index=['category_name', 'subcategory_name'], columns='source', values='visits', aggfunc='sum')\n",
        "data_pivot\n"
      ]
    },
    {
      "cell_type": "markdown",
      "metadata": {
        "id": "pNjfmGISKD_3"
      },
      "source": [
        "Теперь вы видите название категории и её подкатегории со значениями объёма трафика по каждой.\n",
        "\n",
        "Как видно, основная категория включает в себя подкатегорию и это представлено в структуре датафрейма: категория отображена иерархически главной над подкатегорией. Такие датафреймы содержат в себе мультииндекс. Часто при работе с такими датафреймами мультииндекс убирают, чтобы категория была отображена на каждой строчке датафрейма:\n",
        "\n",
        "**data_pivot_with_reset_index = data_pivot.reset_index()\n",
        "print(data_pivot_with_reset_index.head(10)) **\n",
        "\n"
      ]
    },
    {
      "cell_type": "code",
      "execution_count": 36,
      "metadata": {
        "colab": {
          "base_uri": "https://localhost:8080/"
        },
        "id": "9gcQrhrLKD_3",
        "outputId": "0d1b2b1e-7c1d-47e6-8795-5a8f116ba878"
      },
      "outputs": [
        {
          "output_type": "stream",
          "name": "stdout",
          "text": [
            "source category_name            subcategory_name  direct  organic\n",
            "0               Авто                Автоакустика    5915    15433\n",
            "1               Авто               Автомагнитолы    7783    18690\n",
            "2               Авто     Автомобильные инверторы     145      150\n",
            "3               Авто   Автомобильные компрессоры     407      790\n",
            "4               Авто    Автомобильные телевизоры     975     2246\n",
            "5               Авто  Автомобильные холодильники     204      285\n",
            "6               Авто            Автосигнализации     494     1026\n",
            "7               Авто      Аккумуляторные батареи    1175     2657\n",
            "8               Авто                   Антифризы     736     1568\n",
            "9               Авто         Багажники, рейлинги     342      664\n"
          ]
        }
      ],
      "source": [
        "\n",
        "data_pivot_with_reset_index = data_pivot.reset_index()\n",
        "print(data_pivot_with_reset_index.head(10))"
      ]
    },
    {
      "cell_type": "markdown",
      "metadata": {
        "id": "aV9AjQdrKD_3"
      },
      "source": [
        "В таблице выше суммы визитов **visits** по каждому из источников **source (direct и organic)** представлены в отдельных столбцах. Такой вид таблицы называется «широкий». Он удобен, когда нужно сравнить значения столбцов. Хорошо заметно, например, что в подкатегории «Автомобильные инверторы» количество визитов из источников **direct** и **organic** практически одинаково, а в подкатегории «Автомагнитолы» из источника **organic** пришло почти в два раза больше посетителей, чем из **direct**.\n",
        "\n",
        "Для группировки данных также подходит изученная вами ранее комбинация методов **groupby()** и **agg()** , но с ними таблица будет выглядеть иначе.\n",
        "\n",
        "Метод **groupby()** принимает один аргумент — столбец (или список столбцов), по которым группируют данные. В метод **agg()** передают словарь. Его ключ — это названия столбцов, а значение — функции, которые будут к этим столбцам применены (например, **sum или count**). Такие функции называются агрегирующие.\n",
        "Решим ту же задачу по SEO-оптимизации методами **groupby() и agg()**:\n",
        "\n",
        "\n",
        "**data_grouped = data_final.groupby(['category_name','subcategory_name','source']).agg({'visits':'sum'})**\n",
        "\n",
        "**print(data_grouped.head(10))**\n"
      ]
    },
    {
      "cell_type": "code",
      "execution_count": 37,
      "metadata": {
        "colab": {
          "base_uri": "https://localhost:8080/"
        },
        "id": "4sgQntXQKD_3",
        "outputId": "3aabaa2d-9f29-4c98-82e8-bf392e58a049"
      },
      "outputs": [
        {
          "output_type": "stream",
          "name": "stdout",
          "text": [
            "                                                 visits\n",
            "category_name subcategory_name          source         \n",
            "Авто          Автоакустика              direct     5915\n",
            "                                        organic   15433\n",
            "              Автомагнитолы             direct     7783\n",
            "                                        organic   18690\n",
            "              Автомобильные инверторы   direct      145\n",
            "                                        organic     150\n",
            "              Автомобильные компрессоры direct      407\n",
            "                                        organic     790\n",
            "              Автомобильные телевизоры  direct      975\n",
            "                                        organic    2246\n"
          ]
        }
      ],
      "source": [
        "data_grouped = data_final.groupby(['category_name','subcategory_name','source']).agg({'visits':'sum'})\n",
        "\n",
        "print(data_grouped.head(10))"
      ]
    },
    {
      "cell_type": "markdown",
      "metadata": {
        "id": "VrIkyOj4KD_3"
      },
      "source": [
        "Сгруппировав данные методами **groupby()** и **agg()** вместо **pivot_table()**, мы получили точно такие же данные, но в несколько другом виде. Он называется «длинный». Методы **groupby()** и **agg()** удобны, когда нужно применить функцию к столбцу со сгруппированными визитами **visits** или создать новый столбец на его основе:\n",
        "\n",
        "**data_grouped['daily_visits'] = data_grouped['visits'] / 30\n",
        "print(data_grouped.head(10))**\n"
      ]
    },
    {
      "cell_type": "code",
      "execution_count": 38,
      "metadata": {
        "colab": {
          "base_uri": "https://localhost:8080/"
        },
        "id": "Zpg9krHGKD_4",
        "outputId": "5d2c61c7-60e7-4afb-e78f-91119c7daa51"
      },
      "outputs": [
        {
          "output_type": "stream",
          "name": "stdout",
          "text": [
            "                                                 visits  daily_visits\n",
            "category_name subcategory_name          source                       \n",
            "Авто          Автоакустика              direct     5915    197.166667\n",
            "                                        organic   15433    514.433333\n",
            "              Автомагнитолы             direct     7783    259.433333\n",
            "                                        organic   18690    623.000000\n",
            "              Автомобильные инверторы   direct      145      4.833333\n",
            "                                        organic     150      5.000000\n",
            "              Автомобильные компрессоры direct      407     13.566667\n",
            "                                        organic     790     26.333333\n",
            "              Автомобильные телевизоры  direct      975     32.500000\n",
            "                                        organic    2246     74.866667\n"
          ]
        }
      ],
      "source": [
        "data_grouped['daily_visits'] = data_grouped['visits'] / 30\n",
        "print(data_grouped.head(10))"
      ]
    },
    {
      "cell_type": "markdown",
      "metadata": {
        "id": "c9Wf3rt0KD_4"
      },
      "source": [
        "## Задачи:\n",
        "\n",
        "1. Самостоятельно создайте сводную таблицу для набора **data_final**. Результат сохраните в переменной **data_pivot** и выведите первых 10 значений на экран.\n",
        "\n",
        "2. Создайте в таблице **data_pivot** новый столбец **'ratio'** и сохраните в нём значение отношения органического трафика **'organic'** к прямому **'direct'**. Выведите первые 10 строк таблицы на экран.\n",
        "\n",
        "3. Отсортируйте таблицу по столбцу **'ratio'** в порядке убывания. Выведите первые 10 строк. Отсортированную таблицу сохранять не нужно.\n",
        "\n",
        "4. Отсортируйте таблицу по столбцу **'ratio'** в порядке убывания и выведите последние 10 записей, где прямой трафик больше 1000. Выражение напишите в скобках функции **print()**, чтобы результат напечатался на экран.\n",
        "\n"
      ]
    },
    {
      "cell_type": "code",
      "execution_count": 39,
      "metadata": {
        "colab": {
          "base_uri": "https://localhost:8080/"
        },
        "id": "351r0PamKD_4",
        "outputId": "88889fd2-3166-4740-dc4a-edfdc6881691"
      },
      "outputs": [
        {
          "output_type": "stream",
          "name": "stdout",
          "text": [
            "source                                    direct  organic     ratio\n",
            "category_name subcategory_name                                     \n",
            "Авто          Автоакустика                  5915    15433  2.609129\n",
            "              Автомагнитолы                 7783    18690  2.401388\n",
            "              Автомобильные инверторы        145      150  1.034483\n",
            "              Автомобильные компрессоры      407      790  1.941032\n",
            "              Автомобильные телевизоры       975     2246  2.303590\n",
            "              Автомобильные холодильники     204      285  1.397059\n",
            "              Автосигнализации               494     1026  2.076923\n",
            "              Аккумуляторные батареи        1175     2657  2.261277\n",
            "              Антифризы                      736     1568  2.130435\n",
            "              Багажники, рейлинги            342      664  1.941520\n"
          ]
        }
      ],
      "source": [
        "# 1Создание нового столбца 'ratio'\n",
        "data_pivot['ratio'] = data_pivot['organic'] / data_pivot['direct']\n",
        "\n",
        "# Вывод первых 10 строк таблицы\n",
        "print(data_pivot.head(10))"
      ]
    },
    {
      "cell_type": "code",
      "source": [
        "#2\n",
        "#Создание нового столбца 'ratio'\n",
        "data_pivot['ratio'] = data_pivot['organic'] / data_pivot['direct']\n",
        "print(data_pivot.head(10))"
      ],
      "metadata": {
        "colab": {
          "base_uri": "https://localhost:8080/"
        },
        "id": "N2jy8diWORvH",
        "outputId": "5dc97645-42b1-4e77-93f8-bd86ea926f20"
      },
      "execution_count": 42,
      "outputs": [
        {
          "output_type": "stream",
          "name": "stdout",
          "text": [
            "source                                    direct  organic     ratio\n",
            "category_name subcategory_name                                     \n",
            "Авто          Автоакустика                  5915    15433  2.609129\n",
            "              Автомагнитолы                 7783    18690  2.401388\n",
            "              Автомобильные инверторы        145      150  1.034483\n",
            "              Автомобильные компрессоры      407      790  1.941032\n",
            "              Автомобильные телевизоры       975     2246  2.303590\n",
            "              Автомобильные холодильники     204      285  1.397059\n",
            "              Автосигнализации               494     1026  2.076923\n",
            "              Аккумуляторные батареи        1175     2657  2.261277\n",
            "              Антифризы                      736     1568  2.130435\n",
            "              Багажники, рейлинги            342      664  1.941520\n"
          ]
        }
      ]
    },
    {
      "cell_type": "code",
      "source": [
        "#Сортировка по столбцу 'ratio' в порядке убывания\n",
        "sorted_data = data_pivot.sort_values(by='ratio', ascending=False)\n",
        "print(sorted_data.head(10))"
      ],
      "metadata": {
        "colab": {
          "base_uri": "https://localhost:8080/"
        },
        "id": "6IUpkCWtOaJm",
        "outputId": "8068f795-80f0-4e3c-f49d-f98398c68157"
      },
      "execution_count": 43,
      "outputs": [
        {
          "output_type": "stream",
          "name": "stdout",
          "text": [
            "source                                                     direct  organic  \\\n",
            "category_name          subcategory_name                                      \n",
            "Авто                   Шины                                 39638   153859   \n",
            "Бытовая техника        Стиральные машины                    22064    64570   \n",
            "Спорт и отдых          Велосипеды                           16009    46087   \n",
            "Детские товары         Коляски                              18079    52005   \n",
            "Строительство и ремонт Сварочные аппараты                    6175    17325   \n",
            "Товары для дома        Компьютерные кресла                   6208    17407   \n",
            "Компьютерная техника   Клавиатуры                            6224    17417   \n",
            "Электроника            Универсальные внешние аккумуляторы    6146    17115   \n",
            "                       TV-тюнеры                             6275    17427   \n",
            "Бытовая техника        Холодильники                         20920    57985   \n",
            "\n",
            "source                                                        ratio  \n",
            "category_name          subcategory_name                              \n",
            "Авто                   Шины                                3.881604  \n",
            "Бытовая техника        Стиральные машины                   2.926487  \n",
            "Спорт и отдых          Велосипеды                          2.878818  \n",
            "Детские товары         Коляски                             2.876542  \n",
            "Строительство и ремонт Сварочные аппараты                  2.805668  \n",
            "Товары для дома        Компьютерные кресла                 2.803963  \n",
            "Компьютерная техника   Клавиатуры                          2.798361  \n",
            "Электроника            Универсальные внешние аккумуляторы  2.784738  \n",
            "                       TV-тюнеры                           2.777211  \n",
            "Бытовая техника        Холодильники                        2.771750  \n"
          ]
        }
      ]
    },
    {
      "cell_type": "code",
      "source": [
        "# Сортировка и вывод последних 10 записей с прямым трафиком больше 1000\n",
        "print(sorted_data[sorted_data['direct'] > 1000].tail(10))"
      ],
      "metadata": {
        "colab": {
          "base_uri": "https://localhost:8080/"
        },
        "id": "EfHgGg3TO4bp",
        "outputId": "42586056-7cab-4aff-8e6f-573c4aeaf709"
      },
      "execution_count": 44,
      "outputs": [
        {
          "output_type": "stream",
          "name": "stdout",
          "text": [
            "source                                                       direct  organic  \\\n",
            "category_name              subcategory_name                                    \n",
            "Бытовая техника            Оверлоки и распошивальные машины    1536     3215   \n",
            "Товары для дома            Компьютерные и письменные столы     1999     4177   \n",
            "                           Люстры                              2016     4209   \n",
            "Строительство и ремонт     Дисковые пилы                       2040     4255   \n",
            "                           Воздушные компрессоры               1690     3520   \n",
            "Товары для здоровья        Бандажи и ортезы                    1659     3453   \n",
            "Строительство и ремонт     Нивелиры и лазерные уровни          1651     3436   \n",
            "Электроника                Защитные пленки и стекла            1560     3246   \n",
            "Одежда, обувь и аксессуары Туфли                               1035     2096   \n",
            "                           Сапоги                              1008     2021   \n",
            "\n",
            "source                                                          ratio  \n",
            "category_name              subcategory_name                            \n",
            "Бытовая техника            Оверлоки и распошивальные машины  2.093099  \n",
            "Товары для дома            Компьютерные и письменные столы   2.089545  \n",
            "                           Люстры                            2.087798  \n",
            "Строительство и ремонт     Дисковые пилы                     2.085784  \n",
            "                           Воздушные компрессоры             2.082840  \n",
            "Товары для здоровья        Бандажи и ортезы                  2.081374  \n",
            "Строительство и ремонт     Нивелиры и лазерные уровни        2.081163  \n",
            "Электроника                Защитные пленки и стекла          2.080769  \n",
            "Одежда, обувь и аксессуары Туфли                             2.025121  \n",
            "                           Сапоги                            2.004960  \n"
          ]
        }
      ]
    }
  ],
  "metadata": {
    "kernelspec": {
      "display_name": "Python 3 (ipykernel)",
      "language": "python",
      "name": "python3"
    },
    "language_info": {
      "codemirror_mode": {
        "name": "ipython",
        "version": 3
      },
      "file_extension": ".py",
      "mimetype": "text/x-python",
      "name": "python",
      "nbconvert_exporter": "python",
      "pygments_lexer": "ipython3",
      "version": "3.9.12"
    },
    "colab": {
      "provenance": [],
      "include_colab_link": true
    }
  },
  "nbformat": 4,
  "nbformat_minor": 0
}